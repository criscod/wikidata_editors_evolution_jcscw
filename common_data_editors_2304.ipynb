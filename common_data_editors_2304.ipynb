{
 "cells": [
  {
   "cell_type": "markdown",
   "metadata": {
    "collapsed": true
   },
   "source": []
  },
  {
   "cell_type": "code",
   "execution_count": 98,
   "metadata": {
    "ExecuteTime": {
     "end_time": "2017-06-28T18:54:57.769436Z",
     "start_time": "2017-06-28T18:54:57.757306"
    }
   },
   "outputs": [
    {
     "name": "stdout",
     "output_type": "stream",
     "text": [
      "Populating the interactive namespace from numpy and matplotlib\n"
     ]
    }
   ],
   "source": [
    "import pandas as pd\n",
    "import matplotlib.pyplot as plt\n",
    "import datetime as dt  \n",
    "import numpy as np\n",
    "%pylab inline\n",
    "import matplotlib as plt\n",
    "import urllib\n",
    "from scipy.stats import pearsonr\n",
    "import gc"
   ]
  },
  {
   "cell_type": "markdown",
   "metadata": {
    "ExecuteTime": {
     "end_time": "2017-06-28T16:57:59.823623Z",
     "start_time": "2017-06-28T16:57:59.767463"
    }
   },
   "source": [
    "import numpy as np\n",
    "%pylab inline\n",
    "import matplotlib as plt\n",
    "import seaborn as sns\n",
    "import pandas as pd"
   ]
  },
  {
   "cell_type": "code",
   "execution_count": 33,
   "metadata": {
    "ExecuteTime": {
     "end_time": "2017-06-28T15:50:38.688930Z",
     "start_time": "2017-06-28T15:50:38.625792"
    }
   },
   "outputs": [
    {
     "data": {
      "text/plain": [
       "252"
      ]
     },
     "execution_count": 33,
     "metadata": {},
     "output_type": "execute_result"
    }
   ],
   "source": [
    "#print(gc.get_threshold())\n",
    "gc.collect()"
   ]
  },
  {
   "cell_type": "markdown",
   "metadata": {},
   "source": [
    "# load DB data"
   ]
  },
  {
   "cell_type": "code",
   "execution_count": 34,
   "metadata": {
    "ExecuteTime": {
     "end_time": "2017-06-28T15:50:38.694357Z",
     "start_time": "2017-06-28T15:50:38.690739"
    },
    "collapsed": true
   },
   "outputs": [],
   "source": [
    "#!wget 'http://141.26.208.111/sessions_alldata_notools_2305_t.csv'\n",
    "#!wget 'http://141.26.208.111/sessions_alldata_tools_2305_t.csv'\n",
    "#!wget 'http://141.26.208.111/pages_filtered_2105.csv'\n",
    "#!wget 'http://141.26.208.111/itempages_2305.csv'\n",
    "#!wget 'http://141.26.208.111/contributors_filtered_2105.csv'"
   ]
  },
  {
   "cell_type": "code",
   "execution_count": 35,
   "metadata": {
    "ExecuteTime": {
     "end_time": "2017-06-28T15:50:38.701614Z",
     "start_time": "2017-06-28T15:50:38.696182"
    },
    "collapsed": true
   },
   "outputs": [],
   "source": [
    "# INFO (provenance of sessions):\n",
    "# the sessions where generated following the thresholds defined in: http://143.167.102.51:8888/notebooks/threshold-new_fribourg.ipynb\n",
    "\n",
    "\n",
    "# INFO (other available data) :\n",
    "# the data files containing the edit comments and other ignored features, BUT NOT THE SESSIONS, are here: \n",
    "# data_notools = pd.read_csv('revisions2notools_0604.csv',sep=\"\\t\", usecols=[0,2,9,10,12],header=None,names = ['revid','revTimestamp','revContributor','item','actiontype'])\n",
    "# data_tools = pd.read_csv('revisions2tools_0604.csv',sep=\"\\t\", usecols=[0,2,9,10,12],header=None,names = ['revid','revTimestamp','revContributor','item','actiontype'])\n",
    " \n"
   ]
  },
  {
   "cell_type": "code",
   "execution_count": 36,
   "metadata": {
    "ExecuteTime": {
     "end_time": "2017-06-28T15:50:38.729086Z",
     "start_time": "2017-06-28T15:50:38.703464"
    }
   },
   "outputs": [
    {
     "ename": "FileNotFoundError",
     "evalue": "File b'sessions_alldata_notools_2305_t.csv' does not exist",
     "output_type": "error",
     "traceback": [
      "\u001b[0;31m---------------------------------------------------------------------------\u001b[0m",
      "\u001b[0;31mFileNotFoundError\u001b[0m                         Traceback (most recent call last)",
      "\u001b[0;32m<ipython-input-36-8d1bfb99a03b>\u001b[0m in \u001b[0;36m<module>\u001b[0;34m()\u001b[0m\n\u001b[1;32m      1\u001b[0m \u001b[0;31m# parse the data coming from the database after the session generation\u001b[0m\u001b[0;34m\u001b[0m\u001b[0;34m\u001b[0m\u001b[0m\n\u001b[0;32m----> 2\u001b[0;31m \u001b[0mdata_sessions_notools\u001b[0m \u001b[0;34m=\u001b[0m \u001b[0mpd\u001b[0m\u001b[0;34m.\u001b[0m\u001b[0mread_csv\u001b[0m\u001b[0;34m(\u001b[0m\u001b[0;34m'sessions_alldata_notools_2305_t.csv'\u001b[0m\u001b[0;34m,\u001b[0m \u001b[0msep\u001b[0m\u001b[0;34m=\u001b[0m\u001b[0;34m\"\\t\"\u001b[0m\u001b[0;34m,\u001b[0m \u001b[0musecols\u001b[0m\u001b[0;34m=\u001b[0m\u001b[0;34m[\u001b[0m\u001b[0;36m0\u001b[0m\u001b[0;34m,\u001b[0m\u001b[0;36m1\u001b[0m\u001b[0;34m,\u001b[0m\u001b[0;36m2\u001b[0m\u001b[0;34m,\u001b[0m\u001b[0;36m3\u001b[0m\u001b[0;34m,\u001b[0m\u001b[0;36m4\u001b[0m\u001b[0;34m,\u001b[0m\u001b[0;36m5\u001b[0m\u001b[0;34m,\u001b[0m\u001b[0;36m6\u001b[0m\u001b[0;34m,\u001b[0m\u001b[0;36m7\u001b[0m\u001b[0;34m,\u001b[0m\u001b[0;36m8\u001b[0m\u001b[0;34m]\u001b[0m\u001b[0;34m,\u001b[0m\u001b[0mheader\u001b[0m\u001b[0;34m=\u001b[0m\u001b[0;32mNone\u001b[0m\u001b[0;34m,\u001b[0m\u001b[0mnames\u001b[0m \u001b[0;34m=\u001b[0m \u001b[0;34m[\u001b[0m\u001b[0;34m'revContributor'\u001b[0m\u001b[0;34m,\u001b[0m\u001b[0;34m'revId'\u001b[0m\u001b[0;34m,\u001b[0m\u001b[0;34m'revTimestamp'\u001b[0m\u001b[0;34m,\u001b[0m\u001b[0;34m'year'\u001b[0m\u001b[0;34m,\u001b[0m\u001b[0;34m'month'\u001b[0m\u001b[0;34m,\u001b[0m\u001b[0;34m'day'\u001b[0m\u001b[0;34m,\u001b[0m\u001b[0;34m'revPage'\u001b[0m\u001b[0;34m,\u001b[0m\u001b[0;34m'actionType'\u001b[0m\u001b[0;34m,\u001b[0m\u001b[0;34m'session'\u001b[0m\u001b[0;34m]\u001b[0m\u001b[0;34m)\u001b[0m\u001b[0;34m\u001b[0m\u001b[0m\n\u001b[0m\u001b[1;32m      3\u001b[0m \u001b[0;31m#data_sessions_tools = pd.read_csv('sessions_alldata_tools_1104.csv', sep=\"\\t\", usecols=[0,1,2,3,4,5,6,7,8],header=None,names = ['revContributor','revId','revTimestamp','year','month','day','revPage','actionType','session'])\u001b[0m\u001b[0;34m\u001b[0m\u001b[0;34m\u001b[0m\u001b[0m\n\u001b[1;32m      4\u001b[0m \u001b[0mdata_sessions_tools\u001b[0m \u001b[0;34m=\u001b[0m \u001b[0mpd\u001b[0m\u001b[0;34m.\u001b[0m\u001b[0mread_csv\u001b[0m\u001b[0;34m(\u001b[0m\u001b[0;34m'sessions_alldata_tools_2305_t.csv'\u001b[0m\u001b[0;34m,\u001b[0m \u001b[0msep\u001b[0m\u001b[0;34m=\u001b[0m\u001b[0;34m\"\\t\"\u001b[0m\u001b[0;34m,\u001b[0m \u001b[0musecols\u001b[0m\u001b[0;34m=\u001b[0m\u001b[0;34m[\u001b[0m\u001b[0;36m0\u001b[0m\u001b[0;34m,\u001b[0m\u001b[0;36m1\u001b[0m\u001b[0;34m,\u001b[0m\u001b[0;36m2\u001b[0m\u001b[0;34m,\u001b[0m\u001b[0;36m3\u001b[0m\u001b[0;34m,\u001b[0m\u001b[0;36m4\u001b[0m\u001b[0;34m,\u001b[0m\u001b[0;36m5\u001b[0m\u001b[0;34m,\u001b[0m\u001b[0;36m6\u001b[0m\u001b[0;34m,\u001b[0m\u001b[0;36m7\u001b[0m\u001b[0;34m,\u001b[0m\u001b[0;36m8\u001b[0m\u001b[0;34m]\u001b[0m\u001b[0;34m,\u001b[0m\u001b[0mheader\u001b[0m\u001b[0;34m=\u001b[0m\u001b[0;32mNone\u001b[0m\u001b[0;34m,\u001b[0m\u001b[0mnames\u001b[0m \u001b[0;34m=\u001b[0m \u001b[0;34m[\u001b[0m\u001b[0;34m'revContributor'\u001b[0m\u001b[0;34m,\u001b[0m\u001b[0;34m'revId'\u001b[0m\u001b[0;34m,\u001b[0m\u001b[0;34m'revTimestamp'\u001b[0m\u001b[0;34m,\u001b[0m\u001b[0;34m'year'\u001b[0m\u001b[0;34m,\u001b[0m\u001b[0;34m'month'\u001b[0m\u001b[0;34m,\u001b[0m\u001b[0;34m'day'\u001b[0m\u001b[0;34m,\u001b[0m\u001b[0;34m'revPage'\u001b[0m\u001b[0;34m,\u001b[0m\u001b[0;34m'actionType'\u001b[0m\u001b[0;34m,\u001b[0m\u001b[0;34m'session'\u001b[0m\u001b[0;34m]\u001b[0m\u001b[0;34m)\u001b[0m\u001b[0;34m\u001b[0m\u001b[0m\n\u001b[1;32m      5\u001b[0m \u001b[0;34m\u001b[0m\u001b[0m\n",
      "\u001b[0;32m/home/alex/.virtualenvs/markov/lib/python3.5/site-packages/pandas/io/parsers.py\u001b[0m in \u001b[0;36mparser_f\u001b[0;34m(filepath_or_buffer, sep, delimiter, header, names, index_col, usecols, squeeze, prefix, mangle_dupe_cols, dtype, engine, converters, true_values, false_values, skipinitialspace, skiprows, nrows, na_values, keep_default_na, na_filter, verbose, skip_blank_lines, parse_dates, infer_datetime_format, keep_date_col, date_parser, dayfirst, iterator, chunksize, compression, thousands, decimal, lineterminator, quotechar, quoting, escapechar, comment, encoding, dialect, tupleize_cols, error_bad_lines, warn_bad_lines, skipfooter, skip_footer, doublequote, delim_whitespace, as_recarray, compact_ints, use_unsigned, low_memory, buffer_lines, memory_map, float_precision)\u001b[0m\n\u001b[1;32m    643\u001b[0m                     skip_blank_lines=skip_blank_lines)\n\u001b[1;32m    644\u001b[0m \u001b[0;34m\u001b[0m\u001b[0m\n\u001b[0;32m--> 645\u001b[0;31m         \u001b[0;32mreturn\u001b[0m \u001b[0m_read\u001b[0m\u001b[0;34m(\u001b[0m\u001b[0mfilepath_or_buffer\u001b[0m\u001b[0;34m,\u001b[0m \u001b[0mkwds\u001b[0m\u001b[0;34m)\u001b[0m\u001b[0;34m\u001b[0m\u001b[0m\n\u001b[0m\u001b[1;32m    646\u001b[0m \u001b[0;34m\u001b[0m\u001b[0m\n\u001b[1;32m    647\u001b[0m     \u001b[0mparser_f\u001b[0m\u001b[0;34m.\u001b[0m\u001b[0m__name__\u001b[0m \u001b[0;34m=\u001b[0m \u001b[0mname\u001b[0m\u001b[0;34m\u001b[0m\u001b[0m\n",
      "\u001b[0;32m/home/alex/.virtualenvs/markov/lib/python3.5/site-packages/pandas/io/parsers.py\u001b[0m in \u001b[0;36m_read\u001b[0;34m(filepath_or_buffer, kwds)\u001b[0m\n\u001b[1;32m    386\u001b[0m \u001b[0;34m\u001b[0m\u001b[0m\n\u001b[1;32m    387\u001b[0m     \u001b[0;31m# Create the parser.\u001b[0m\u001b[0;34m\u001b[0m\u001b[0;34m\u001b[0m\u001b[0m\n\u001b[0;32m--> 388\u001b[0;31m     \u001b[0mparser\u001b[0m \u001b[0;34m=\u001b[0m \u001b[0mTextFileReader\u001b[0m\u001b[0;34m(\u001b[0m\u001b[0mfilepath_or_buffer\u001b[0m\u001b[0;34m,\u001b[0m \u001b[0;34m**\u001b[0m\u001b[0mkwds\u001b[0m\u001b[0;34m)\u001b[0m\u001b[0;34m\u001b[0m\u001b[0m\n\u001b[0m\u001b[1;32m    389\u001b[0m \u001b[0;34m\u001b[0m\u001b[0m\n\u001b[1;32m    390\u001b[0m     \u001b[0;32mif\u001b[0m \u001b[0;34m(\u001b[0m\u001b[0mnrows\u001b[0m \u001b[0;32mis\u001b[0m \u001b[0;32mnot\u001b[0m \u001b[0;32mNone\u001b[0m\u001b[0;34m)\u001b[0m \u001b[0;32mand\u001b[0m \u001b[0;34m(\u001b[0m\u001b[0mchunksize\u001b[0m \u001b[0;32mis\u001b[0m \u001b[0;32mnot\u001b[0m \u001b[0;32mNone\u001b[0m\u001b[0;34m)\u001b[0m\u001b[0;34m:\u001b[0m\u001b[0;34m\u001b[0m\u001b[0m\n",
      "\u001b[0;32m/home/alex/.virtualenvs/markov/lib/python3.5/site-packages/pandas/io/parsers.py\u001b[0m in \u001b[0;36m__init__\u001b[0;34m(self, f, engine, **kwds)\u001b[0m\n\u001b[1;32m    727\u001b[0m             \u001b[0mself\u001b[0m\u001b[0;34m.\u001b[0m\u001b[0moptions\u001b[0m\u001b[0;34m[\u001b[0m\u001b[0;34m'has_index_names'\u001b[0m\u001b[0;34m]\u001b[0m \u001b[0;34m=\u001b[0m \u001b[0mkwds\u001b[0m\u001b[0;34m[\u001b[0m\u001b[0;34m'has_index_names'\u001b[0m\u001b[0;34m]\u001b[0m\u001b[0;34m\u001b[0m\u001b[0m\n\u001b[1;32m    728\u001b[0m \u001b[0;34m\u001b[0m\u001b[0m\n\u001b[0;32m--> 729\u001b[0;31m         \u001b[0mself\u001b[0m\u001b[0;34m.\u001b[0m\u001b[0m_make_engine\u001b[0m\u001b[0;34m(\u001b[0m\u001b[0mself\u001b[0m\u001b[0;34m.\u001b[0m\u001b[0mengine\u001b[0m\u001b[0;34m)\u001b[0m\u001b[0;34m\u001b[0m\u001b[0m\n\u001b[0m\u001b[1;32m    730\u001b[0m \u001b[0;34m\u001b[0m\u001b[0m\n\u001b[1;32m    731\u001b[0m     \u001b[0;32mdef\u001b[0m \u001b[0mclose\u001b[0m\u001b[0;34m(\u001b[0m\u001b[0mself\u001b[0m\u001b[0;34m)\u001b[0m\u001b[0;34m:\u001b[0m\u001b[0;34m\u001b[0m\u001b[0m\n",
      "\u001b[0;32m/home/alex/.virtualenvs/markov/lib/python3.5/site-packages/pandas/io/parsers.py\u001b[0m in \u001b[0;36m_make_engine\u001b[0;34m(self, engine)\u001b[0m\n\u001b[1;32m    920\u001b[0m     \u001b[0;32mdef\u001b[0m \u001b[0m_make_engine\u001b[0m\u001b[0;34m(\u001b[0m\u001b[0mself\u001b[0m\u001b[0;34m,\u001b[0m \u001b[0mengine\u001b[0m\u001b[0;34m=\u001b[0m\u001b[0;34m'c'\u001b[0m\u001b[0;34m)\u001b[0m\u001b[0;34m:\u001b[0m\u001b[0;34m\u001b[0m\u001b[0m\n\u001b[1;32m    921\u001b[0m         \u001b[0;32mif\u001b[0m \u001b[0mengine\u001b[0m \u001b[0;34m==\u001b[0m \u001b[0;34m'c'\u001b[0m\u001b[0;34m:\u001b[0m\u001b[0;34m\u001b[0m\u001b[0m\n\u001b[0;32m--> 922\u001b[0;31m             \u001b[0mself\u001b[0m\u001b[0;34m.\u001b[0m\u001b[0m_engine\u001b[0m \u001b[0;34m=\u001b[0m \u001b[0mCParserWrapper\u001b[0m\u001b[0;34m(\u001b[0m\u001b[0mself\u001b[0m\u001b[0;34m.\u001b[0m\u001b[0mf\u001b[0m\u001b[0;34m,\u001b[0m \u001b[0;34m**\u001b[0m\u001b[0mself\u001b[0m\u001b[0;34m.\u001b[0m\u001b[0moptions\u001b[0m\u001b[0;34m)\u001b[0m\u001b[0;34m\u001b[0m\u001b[0m\n\u001b[0m\u001b[1;32m    923\u001b[0m         \u001b[0;32melse\u001b[0m\u001b[0;34m:\u001b[0m\u001b[0;34m\u001b[0m\u001b[0m\n\u001b[1;32m    924\u001b[0m             \u001b[0;32mif\u001b[0m \u001b[0mengine\u001b[0m \u001b[0;34m==\u001b[0m \u001b[0;34m'python'\u001b[0m\u001b[0;34m:\u001b[0m\u001b[0;34m\u001b[0m\u001b[0m\n",
      "\u001b[0;32m/home/alex/.virtualenvs/markov/lib/python3.5/site-packages/pandas/io/parsers.py\u001b[0m in \u001b[0;36m__init__\u001b[0;34m(self, src, **kwds)\u001b[0m\n\u001b[1;32m   1387\u001b[0m         \u001b[0mkwds\u001b[0m\u001b[0;34m[\u001b[0m\u001b[0;34m'allow_leading_cols'\u001b[0m\u001b[0;34m]\u001b[0m \u001b[0;34m=\u001b[0m \u001b[0mself\u001b[0m\u001b[0;34m.\u001b[0m\u001b[0mindex_col\u001b[0m \u001b[0;32mis\u001b[0m \u001b[0;32mnot\u001b[0m \u001b[0;32mFalse\u001b[0m\u001b[0;34m\u001b[0m\u001b[0m\n\u001b[1;32m   1388\u001b[0m \u001b[0;34m\u001b[0m\u001b[0m\n\u001b[0;32m-> 1389\u001b[0;31m         \u001b[0mself\u001b[0m\u001b[0;34m.\u001b[0m\u001b[0m_reader\u001b[0m \u001b[0;34m=\u001b[0m \u001b[0m_parser\u001b[0m\u001b[0;34m.\u001b[0m\u001b[0mTextReader\u001b[0m\u001b[0;34m(\u001b[0m\u001b[0msrc\u001b[0m\u001b[0;34m,\u001b[0m \u001b[0;34m**\u001b[0m\u001b[0mkwds\u001b[0m\u001b[0;34m)\u001b[0m\u001b[0;34m\u001b[0m\u001b[0m\n\u001b[0m\u001b[1;32m   1390\u001b[0m \u001b[0;34m\u001b[0m\u001b[0m\n\u001b[1;32m   1391\u001b[0m         \u001b[0;31m# XXX\u001b[0m\u001b[0;34m\u001b[0m\u001b[0;34m\u001b[0m\u001b[0m\n",
      "\u001b[0;32mpandas/parser.pyx\u001b[0m in \u001b[0;36mpandas.parser.TextReader.__cinit__ (pandas/parser.c:4019)\u001b[0;34m()\u001b[0m\n",
      "\u001b[0;32mpandas/parser.pyx\u001b[0m in \u001b[0;36mpandas.parser.TextReader._setup_parser_source (pandas/parser.c:7967)\u001b[0;34m()\u001b[0m\n",
      "\u001b[0;31mFileNotFoundError\u001b[0m: File b'sessions_alldata_notools_2305_t.csv' does not exist"
     ]
    }
   ],
   "source": [
    "# parse the data coming from the database after the session generation\n",
    "data_sessions_notools = pd.read_csv('sessions_alldata_notools_2305_t.csv', sep=\"\\t\", usecols=[0,1,2,3,4,5,6,7,8],header=None,names = ['revContributor','revId','revTimestamp','year','month','day','revPage','actionType','session'])\n",
    "#data_sessions_tools = pd.read_csv('sessions_alldata_tools_1104.csv', sep=\"\\t\", usecols=[0,1,2,3,4,5,6,7,8],header=None,names = ['revContributor','revId','revTimestamp','year','month','day','revPage','actionType','session'])\n",
    "data_sessions_tools = pd.read_csv('sessions_alldata_tools_2305_t.csv', sep=\"\\t\", usecols=[0,1,2,3,4,5,6,7,8],header=None,names = ['revContributor','revId','revTimestamp','year','month','day','revPage','actionType','session'])\n",
    "\n"
   ]
  },
  {
   "cell_type": "code",
   "execution_count": null,
   "metadata": {
    "ExecuteTime": {
     "end_time": "2017-06-28T15:50:38.729656Z",
     "start_time": "2017-06-28T14:50:38.595Z"
    },
    "collapsed": true
   },
   "outputs": [],
   "source": [
    "len(data_sessions_notools)"
   ]
  },
  {
   "cell_type": "code",
   "execution_count": null,
   "metadata": {
    "ExecuteTime": {
     "end_time": "2017-06-28T15:50:38.730013Z",
     "start_time": "2017-06-28T14:50:38.598Z"
    },
    "collapsed": true
   },
   "outputs": [],
   "source": [
    "sessionsu7notools = data_sessions_notools[data_sessions_notools['revContributor']==7]\n",
    "sessionsu7tools = data_sessions_tools[data_sessions_tools['revContributor']==7]"
   ]
  },
  {
   "cell_type": "code",
   "execution_count": null,
   "metadata": {
    "ExecuteTime": {
     "end_time": "2017-06-28T15:50:38.730352Z",
     "start_time": "2017-06-28T14:50:38.601Z"
    },
    "collapsed": true
   },
   "outputs": [],
   "source": [
    "print(sessionsu7notools)"
   ]
  },
  {
   "cell_type": "markdown",
   "metadata": {},
   "source": [
    "\n",
    "# add whether it is Item page or not"
   ]
  },
  {
   "cell_type": "code",
   "execution_count": null,
   "metadata": {
    "ExecuteTime": {
     "end_time": "2017-06-28T15:50:38.730694Z",
     "start_time": "2017-06-28T14:50:38.604Z"
    },
    "collapsed": true
   },
   "outputs": [],
   "source": [
    "itempages = pd.read_csv('itempages_2305.csv',sep=\"\\t\",usecols=[2,3],header=None,names=['itemid','isItem']) # title, namespace, id, isitem -- because it was ordered differently in the schema db!\n"
   ]
  },
  {
   "cell_type": "code",
   "execution_count": null,
   "metadata": {
    "ExecuteTime": {
     "end_time": "2017-06-28T15:50:38.731034Z",
     "start_time": "2017-06-28T14:50:38.609Z"
    },
    "collapsed": true
   },
   "outputs": [],
   "source": [
    "# cross-check\n",
    "ko =itempages.loc[itempages['itemid']==4090]\n",
    "print(ko['itemid'])"
   ]
  },
  {
   "cell_type": "code",
   "execution_count": null,
   "metadata": {
    "ExecuteTime": {
     "end_time": "2017-06-28T15:50:38.731367Z",
     "start_time": "2017-06-28T14:50:38.615Z"
    },
    "collapsed": true
   },
   "outputs": [],
   "source": [
    "print(itempages['isItem'].value_counts())\n",
    "print(itempages.count())\n"
   ]
  },
  {
   "cell_type": "code",
   "execution_count": null,
   "metadata": {
    "ExecuteTime": {
     "end_time": "2017-06-28T15:50:38.731703Z",
     "start_time": "2017-06-28T14:50:38.618Z"
    },
    "collapsed": true
   },
   "outputs": [],
   "source": [
    "# read the itempages information (dumped from the db)\n",
    "#itemids = pd.read_csv('ids_itempages.csv',sep=\"\\t\",usecols=[0],header=None,names=['itemid'])\n",
    "itemidsset = set(itempages['itemid'])\n",
    "print(str(len(itemidsset)))\n"
   ]
  },
  {
   "cell_type": "code",
   "execution_count": null,
   "metadata": {
    "ExecuteTime": {
     "end_time": "2017-06-28T15:50:38.732036Z",
     "start_time": "2017-06-28T14:50:38.621Z"
    },
    "collapsed": true
   },
   "outputs": [],
   "source": [
    "\n",
    "\n",
    "# add the column indicating whether the revPage column is a reference to an ID of an item page or an ID of a non-item page\n",
    "data_sessions_notools['isItem'] = data_sessions_notools['revPage'].isin(itemidsset)\n",
    "data_sessions_tools['isItem'] = data_sessions_tools['revPage'].isin(itemidsset)"
   ]
  },
  {
   "cell_type": "code",
   "execution_count": null,
   "metadata": {
    "ExecuteTime": {
     "end_time": "2017-06-28T15:50:38.732364Z",
     "start_time": "2017-06-28T14:50:38.626Z"
    },
    "collapsed": true
   },
   "outputs": [],
   "source": [
    "data_sessions_notools['isItem'].value_counts()"
   ]
  },
  {
   "cell_type": "markdown",
   "metadata": {},
   "source": [
    "# serialize the data with the complete set of features"
   ]
  },
  {
   "cell_type": "code",
   "execution_count": null,
   "metadata": {
    "ExecuteTime": {
     "end_time": "2017-06-28T15:50:38.732704Z",
     "start_time": "2017-06-28T14:50:38.630Z"
    },
    "collapsed": true
   },
   "outputs": [],
   "source": [
    "#revContributor: int, id of the human editor\n",
    "#revId: int, id of the edit (or revisions)\n",
    "#revTimestamp: datetime. time when the edit was done\n",
    "#year: int, extracted from revTimestamp\n",
    "#month: int, extracted from revTimestamp\n",
    "#day: int, extracted from revTimestamp\n",
    "#revPage: int, id of the page (can be  item page or non item page)\n",
    "#actionType: int, type of edit (if it's delete, add... following the list of actions I sent before)\n",
    "#session: int, session computed by me\n",
    "#isItem: boolean, true if the edit is of a revPage that it is an item page. For now we *always select only edits that are done on item pages, so .loc where isItem == true* \n"
   ]
  },
  {
   "cell_type": "code",
   "execution_count": null,
   "metadata": {
    "ExecuteTime": {
     "end_time": "2017-06-28T15:50:38.733062Z",
     "start_time": "2017-06-28T14:50:38.634Z"
    },
    "collapsed": true
   },
   "outputs": [],
   "source": [
    "\n",
    "# dump into a file to have that data parseable from all notebooks\n",
    "#data_sessions_notools.to_csv('commondata_notools_23042017.csv',index=False)\n",
    "#data_sessions_tools.to_csv('commondata_tools_23042017.csv', index=False)"
   ]
  },
  {
   "cell_type": "code",
   "execution_count": null,
   "metadata": {
    "ExecuteTime": {
     "end_time": "2017-06-28T15:50:38.733544Z",
     "start_time": "2017-06-28T14:50:38.637Z"
    },
    "collapsed": true
   },
   "outputs": [],
   "source": [
    "#check\n",
    "print(len(data_sessions_notools))\n",
    "print(len(data_sessions_tools))\n",
    "\n"
   ]
  },
  {
   "cell_type": "code",
   "execution_count": null,
   "metadata": {
    "ExecuteTime": {
     "end_time": "2017-06-28T15:50:38.733880Z",
     "start_time": "2017-06-28T14:50:38.643Z"
    },
    "collapsed": true
   },
   "outputs": [],
   "source": [
    "data_sessions_notools['isTool'] = False\n",
    "data_sessions_tools['isTool'] = True"
   ]
  },
  {
   "cell_type": "code",
   "execution_count": null,
   "metadata": {
    "ExecuteTime": {
     "end_time": "2017-06-28T15:50:38.734214Z",
     "start_time": "2017-06-28T14:50:38.647Z"
    },
    "collapsed": true
   },
   "outputs": [],
   "source": [
    "# cross check\n",
    "print('distinct revId no tools in ALL edits, including non-item pages')\n",
    "print(len(data_sessions_notools.revId.unique()))\n",
    "print('distinct revId tools in ALL edits, including non-item pages')\n",
    "print(len(data_sessions_tools.revId.unique()))"
   ]
  },
  {
   "cell_type": "markdown",
   "metadata": {},
   "source": [
    "# check basic stats (over the item pages only) "
   ]
  },
  {
   "cell_type": "code",
   "execution_count": null,
   "metadata": {
    "ExecuteTime": {
     "end_time": "2017-06-28T15:50:38.734544Z",
     "start_time": "2017-06-28T14:50:38.652Z"
    },
    "collapsed": true
   },
   "outputs": [],
   "source": [
    "# get things of only item pages\n",
    "data_notools_items = data_sessions_notools.loc[(data_sessions_notools['isItem'] == True)]\n",
    "data_tools_items = data_sessions_tools.loc[(data_sessions_tools['isItem'] == True)]"
   ]
  },
  {
   "cell_type": "code",
   "execution_count": null,
   "metadata": {
    "ExecuteTime": {
     "end_time": "2017-06-28T15:50:38.734873Z",
     "start_time": "2017-06-28T14:50:38.656Z"
    },
    "collapsed": true
   },
   "outputs": [],
   "source": [
    "# group by contributor\n",
    "data_notools_itemsg = data_notools_items.groupby(['revContributor'])\n",
    "data_tools_itemsg = data_tools_items.groupby(['revContributor'])"
   ]
  },
  {
   "cell_type": "code",
   "execution_count": null,
   "metadata": {
    "ExecuteTime": {
     "end_time": "2017-06-28T15:50:38.735204Z",
     "start_time": "2017-06-28T14:50:38.660Z"
    },
    "collapsed": true
   },
   "outputs": [],
   "source": [
    "# INFO (correct row counts should be the following):\n",
    "# commondata_notools_23042017.csv --> 36,735,612 rows (edits)\n",
    "# commondata_tools_2304.csv --> 66,844,174 rows (edits)"
   ]
  },
  {
   "cell_type": "code",
   "execution_count": null,
   "metadata": {
    "ExecuteTime": {
     "end_time": "2017-06-28T15:50:38.735533Z",
     "start_time": "2017-06-28T14:50:38.664Z"
    },
    "collapsed": true
   },
   "outputs": [],
   "source": [
    "# count edits\n",
    "print('distinct revId no tools')\n",
    "print(len(data_notools_items.revId.unique()))\n",
    "print('distinct revId tools')\n",
    "print(len(data_tools_items.revId.unique()))"
   ]
  },
  {
   "cell_type": "code",
   "execution_count": null,
   "metadata": {
    "ExecuteTime": {
     "end_time": "2017-06-28T15:50:38.735864Z",
     "start_time": "2017-06-28T14:50:38.670Z"
    },
    "collapsed": true
   },
   "outputs": [],
   "source": [
    "# count users\n",
    "print('distinct users no tools')\n",
    "print(len(data_notools_items.revContributor.unique()))\n",
    "print('distinct users tools')\n",
    "print(len(data_tools_items.revContributor.unique()))"
   ]
  },
  {
   "cell_type": "code",
   "execution_count": null,
   "metadata": {
    "ExecuteTime": {
     "end_time": "2017-06-28T15:50:38.736193Z",
     "start_time": "2017-06-28T14:50:38.676Z"
    },
    "collapsed": true
   },
   "outputs": [],
   "source": [
    "# count items\n",
    "print('distinct items no tools')\n",
    "print(len(data_notools_items.revPage.unique()))\n",
    "print('distinct items tools')\n",
    "print(len(data_tools_items.revPage.unique()))"
   ]
  },
  {
   "cell_type": "markdown",
   "metadata": {},
   "source": [
    "# Generate a global data file where we put together all the edits (with and without tools)"
   ]
  },
  {
   "cell_type": "code",
   "execution_count": null,
   "metadata": {
    "ExecuteTime": {
     "end_time": "2017-06-28T15:50:38.736524Z",
     "start_time": "2017-06-28T14:50:38.681Z"
    },
    "collapsed": true
   },
   "outputs": [],
   "source": [
    "# all data, we don't need to use now this, but still dump it\n",
    "alldata = pd.concat([data_sessions_notools,data_sessions_tools])\n",
    "# do the same but including only item pages -- we can have these two \n",
    "alldata_items = pd.concat([data_notools_items,data_tools_items])"
   ]
  },
  {
   "cell_type": "code",
   "execution_count": null,
   "metadata": {
    "ExecuteTime": {
     "end_time": "2017-06-28T15:50:38.748921Z",
     "start_time": "2017-06-28T14:50:38.685Z"
    },
    "collapsed": true
   },
   "outputs": [],
   "source": [
    "# DONE\n",
    "#alldata.to_csv('commondata_23042017.csv',index=False)\n",
    "alldata_items.to_csv('commondata_items_23052017.csv',index=False)\n"
   ]
  },
  {
   "cell_type": "code",
   "execution_count": null,
   "metadata": {
    "ExecuteTime": {
     "end_time": "2017-06-28T15:50:38.749923Z",
     "start_time": "2017-06-28T14:50:38.690Z"
    },
    "collapsed": true
   },
   "outputs": [],
   "source": [
    "print(len(alldata))\n",
    "print(len(alldata_items))"
   ]
  },
  {
   "cell_type": "markdown",
   "metadata": {},
   "source": [
    "# Generate USER stats -- ALL OVER THE DATA OF ONLY ITEM PAGES (isItem == True)"
   ]
  },
  {
   "cell_type": "markdown",
   "metadata": {},
   "source": [
    "## Volume of edits"
   ]
  },
  {
   "cell_type": "code",
   "execution_count": null,
   "metadata": {
    "ExecuteTime": {
     "end_time": "2017-06-28T15:50:38.753830Z",
     "start_time": "2017-06-28T14:50:38.696Z"
    },
    "collapsed": true
   },
   "outputs": [],
   "source": [
    "alldata_items_gcontrib = alldata_items.groupby(['revContributor'])\n",
    "data_notools_itemsg = data_notools_items.groupby(['revContributor'])\n"
   ]
  },
  {
   "cell_type": "code",
   "execution_count": null,
   "metadata": {
    "ExecuteTime": {
     "end_time": "2017-06-28T15:50:38.754688Z",
     "start_time": "2017-06-28T14:50:38.707Z"
    },
    "collapsed": true
   },
   "outputs": [],
   "source": [
    "print(len(alldata_items_gcontrib.groups))\n",
    "print(len(data_notools_itemsg.groups))\n"
   ]
  },
  {
   "cell_type": "code",
   "execution_count": null,
   "metadata": {
    "ExecuteTime": {
     "end_time": "2017-06-28T15:50:38.755832Z",
     "start_time": "2017-06-28T14:50:38.717Z"
    },
    "collapsed": true
   },
   "outputs": [],
   "source": [
    "def editcounts(grouped):\n",
    "    dic = grouped.size().index\n",
    "\n",
    "    editors = pd.DataFrame.from_dict(dic)\n",
    "    #editors = pd.to_numeric(editors,errors='coerce')\n",
    "    counts = pd.Series(grouped.size().values)\n",
    "\n",
    "    editcountsdf = pd.concat([editors,counts],axis=1)\n",
    "    editcountsdf.columns=['revContributor','editCount']\n",
    "\n",
    "    return editcountsdf"
   ]
  },
  {
   "cell_type": "code",
   "execution_count": null,
   "metadata": {
    "ExecuteTime": {
     "end_time": "2017-06-28T15:50:38.756920Z",
     "start_time": "2017-06-28T14:50:38.722Z"
    },
    "collapsed": true
   },
   "outputs": [],
   "source": [
    "editcounts_items = editcounts(alldata_items_gcontrib)\n",
    "editcounts_notools_items = editcounts(data_notools_itemsg)\n",
    "\n",
    "\n",
    "# attribute totalEditCount\n",
    "# attribute totalNoToolCount\n",
    "# attribute totalToolCount"
   ]
  },
  {
   "cell_type": "code",
   "execution_count": null,
   "metadata": {
    "ExecuteTime": {
     "end_time": "2017-06-28T15:50:38.797731Z",
     "start_time": "2017-06-28T14:50:38.729Z"
    },
    "collapsed": true
   },
   "outputs": [],
   "source": [
    "editcounts_items.head()"
   ]
  },
  {
   "cell_type": "markdown",
   "metadata": {},
   "source": [
    "## Lifespan"
   ]
  },
  {
   "cell_type": "code",
   "execution_count": null,
   "metadata": {
    "ExecuteTime": {
     "end_time": "2017-06-28T15:50:38.798781Z",
     "start_time": "2017-06-28T14:50:38.738Z"
    },
    "collapsed": true
   },
   "outputs": [],
   "source": [
    "alldata_items_gcontrib_withoutindex = alldata_items.groupby(['revContributor'],as_index=False)\n",
    "data_notools_items_gcontrib_withoutindex = data_notools_items.groupby(['revContributor'],as_index=False)\n"
   ]
  },
  {
   "cell_type": "code",
   "execution_count": null,
   "metadata": {
    "ExecuteTime": {
     "end_time": "2017-06-28T15:50:38.803508Z",
     "start_time": "2017-06-28T14:50:38.745Z"
    },
    "collapsed": true
   },
   "outputs": [],
   "source": [
    "def lifespan(group):\n",
    "    \n",
    "   \n",
    "    start= pd.to_datetime(group['revTimestamp'].min(),utc=True)\n",
    "    end = pd.to_datetime(group['revTimestamp'].max(),utc=True)     \n",
    "    \n",
    "    diff = (end - start)\n",
    "    difference_days = diff.days\n",
    "    difference_months = float(difference_days / 30.0)\n",
    "   \n",
    "    \n",
    "  \n",
    "    \n",
    "    return difference_months\n"
   ]
  },
  {
   "cell_type": "code",
   "execution_count": null,
   "metadata": {
    "ExecuteTime": {
     "end_time": "2017-06-28T15:50:38.804591Z",
     "start_time": "2017-06-28T14:50:38.750Z"
    },
    "collapsed": true
   },
   "outputs": [],
   "source": [
    "lifespans_items = alldata_items_gcontrib_withoutindex.apply(lifespan)\n",
    "lifespans_notools_items = data_notools_items_gcontrib_withoutindex.apply(lifespan)"
   ]
  },
  {
   "cell_type": "code",
   "execution_count": null,
   "metadata": {
    "ExecuteTime": {
     "end_time": "2017-06-28T15:50:38.805713Z",
     "start_time": "2017-06-28T14:50:38.755Z"
    },
    "collapsed": true
   },
   "outputs": [],
   "source": [
    "print(len(lifespans_items))\n",
    "print(len(lifespans_notools_items))"
   ]
  },
  {
   "cell_type": "markdown",
   "metadata": {},
   "source": [
    "## Start and end -- to be double checked"
   ]
  },
  {
   "cell_type": "code",
   "execution_count": null,
   "metadata": {
    "ExecuteTime": {
     "end_time": "2017-06-28T15:50:38.806877Z",
     "start_time": "2017-06-28T14:50:38.761Z"
    },
    "collapsed": true
   },
   "outputs": [],
   "source": [
    "def startandend(group):\n",
    "    dates = pd.DataFrame(columns=['start','end'])\n",
    "    \n",
    "   \n",
    "    start= pd.to_datetime(group['revTimestamp'].min(),utc=True)\n",
    "    end = pd.to_datetime(group['revTimestamp'].max(),utc=True) \n",
    "    \n",
    "    \n",
    "   \n",
    "    \n",
    "    dates = dates.append({\n",
    "     \"start\": start,\n",
    "     \"end\":  end\n",
    "      }, ignore_index=True)\n",
    "   \n",
    "    \n",
    "      \n",
    "    return dates"
   ]
  },
  {
   "cell_type": "code",
   "execution_count": null,
   "metadata": {
    "ExecuteTime": {
     "end_time": "2017-06-28T15:50:38.808252Z",
     "start_time": "2017-06-28T14:50:38.768Z"
    },
    "collapsed": true
   },
   "outputs": [],
   "source": [
    "startenddates_items = alldata_items_gcontrib_withoutindex.apply(startandend)\n",
    "startenddates_notools_items = data_notools_items_gcontrib_withoutindex.apply(startandend)"
   ]
  },
  {
   "cell_type": "markdown",
   "metadata": {},
   "source": [
    "## Gone and not gone"
   ]
  },
  {
   "cell_type": "code",
   "execution_count": null,
   "metadata": {
    "ExecuteTime": {
     "end_time": "2017-06-28T15:50:39.261012Z",
     "start_time": "2017-06-28T14:50:38.780Z"
    },
    "collapsed": true
   },
   "outputs": [],
   "source": [
    "def gone(group,tools):\n",
    "    \n",
    "    # tools tells if tools edits are included -- in the total set they are.\n",
    "   \n",
    "    end = pd.to_datetime(group['revTimestamp'].max(),utc=True) \n",
    "    july = pd.to_datetime('2016-07-01T00:00:00Z',utc=True)  #2016-07-04T00:00:00Z\n",
    "    \n",
    "    diff = (july - end)\n",
    "    difference_days = diff.days\n",
    "    difference_months = float(difference_days / 30.0)\n",
    "   \n",
    "    \n",
    "    if (not tools and difference_months >= 9.966666666666667): # 10# old 8.0 icwsm #16.0 \n",
    "        return 1\n",
    "    elif (tools and difference_months >= 9.433333333333334): #9.0\n",
    "        return 1\n",
    "    else:\n",
    "        return 0\n",
    "    "
   ]
  },
  {
   "cell_type": "code",
   "execution_count": null,
   "metadata": {
    "ExecuteTime": {
     "end_time": "2017-06-28T15:50:39.261535Z",
     "start_time": "2017-06-28T14:50:38.786Z"
    },
    "collapsed": true
   },
   "outputs": [],
   "source": [
    "gone_items = alldata_items_gcontrib_withoutindex.apply(gone,True)  # all (tools and no tools)\n",
    "gone_notools_items = data_notools_items_gcontrib_withoutindex.apply(gone,False)  \n",
    "\n"
   ]
  },
  {
   "cell_type": "code",
   "execution_count": null,
   "metadata": {
    "ExecuteTime": {
     "end_time": "2017-06-28T15:50:39.262084Z",
     "start_time": "2017-06-28T14:50:38.792Z"
    },
    "collapsed": true
   },
   "outputs": [],
   "source": [
    "# cross check\n",
    "#print(alldata_items_gcontrib_withoutindex.head(2))\n",
    "#print(alldata_items_gcontrib_withoutindex.get_group('1'))\n",
    "#print(alldata_items_gcontrib_withoutindex.get_group('1')['revTimestamp'].max())\n",
    "#print(alldata_items_gcontrib_withoutindex.get_group('1')['revTimestamp'].min())"
   ]
  },
  {
   "cell_type": "markdown",
   "metadata": {},
   "source": [
    "# Dump it out"
   ]
  },
  {
   "cell_type": "code",
   "execution_count": null,
   "metadata": {
    "ExecuteTime": {
     "end_time": "2017-06-28T15:50:39.262625Z",
     "start_time": "2017-06-28T14:50:38.798Z"
    },
    "collapsed": true
   },
   "outputs": [],
   "source": [
    "\n",
    "def generateuserdatafile(eddf,lfdf,sedf,gdf,suffix):\n",
    "    userdata = pd.concat([eddf,lfdf,sedf,gdf],axis=1)\n",
    "    userdata.to_csv(\"userdata_2305_\"+suffix+\".csv\",index=False)"
   ]
  },
  {
   "cell_type": "code",
   "execution_count": null,
   "metadata": {
    "ExecuteTime": {
     "end_time": "2017-06-28T15:50:39.263180Z",
     "start_time": "2017-06-28T14:50:38.804Z"
    },
    "collapsed": true
   },
   "outputs": [],
   "source": [
    "startenddates_items_ni = startenddates_items.reset_index()\n",
    "startenddates_notools_items_ni = startenddates_notools_items.reset_index()\n",
    "startenddates_items_ni.head()\n",
    "startenddates_notools_items_ni.head()\n",
    "startenddates_items_o = startenddates_items_ni[['start','end']]\n",
    "startenddates_notools_items_o = startenddates_notools_items_ni[['start','end']]"
   ]
  },
  {
   "cell_type": "code",
   "execution_count": null,
   "metadata": {
    "ExecuteTime": {
     "end_time": "2017-06-28T15:50:39.263923Z",
     "start_time": "2017-06-28T14:50:38.811Z"
    },
    "collapsed": true
   },
   "outputs": [],
   "source": [
    "print(len(editcounts_items))\n",
    "print(len(lifespans_items))\n",
    "print(len(startenddates_items))\n",
    "print(len(gone_items))\n",
    "print('--')\n",
    "print(len(editcounts_notools_items))\n",
    "print(len(lifespans_notools_items))\n",
    "print(len(startenddates_notools_items))\n",
    "print(len(gone_notools_items))"
   ]
  },
  {
   "cell_type": "code",
   "execution_count": null,
   "metadata": {
    "ExecuteTime": {
     "end_time": "2017-06-28T15:50:39.264448Z",
     "start_time": "2017-06-28T14:50:38.818Z"
    },
    "collapsed": true
   },
   "outputs": [],
   "source": [
    "editcounts_items.head()"
   ]
  },
  {
   "cell_type": "code",
   "execution_count": null,
   "metadata": {
    "ExecuteTime": {
     "end_time": "2017-06-28T15:50:39.264999Z",
     "start_time": "2017-06-28T14:50:38.826Z"
    },
    "collapsed": true
   },
   "outputs": [],
   "source": [
    "li = lifespans_items.to_frame()\n",
    "li.columns=['lifespan']\n",
    "gi = gone_items.to_frame()\n",
    "gi.columns=['gone']\n",
    "lint = lifespans_notools_items.to_frame()\n",
    "lint.columns=['lifespan']\n",
    "gint = gone_notools_items.to_frame()\n",
    "gint.columns=['gone']\n",
    "\n",
    "generateuserdatafile(editcounts_items,li,startenddates_items_o,gi,\"allitemsdata\")\n",
    "generateuserdatafile(editcounts_notools_items,lint,startenddates_notools_items_o,gint,\"notoolsitemsdata\")"
   ]
  },
  {
   "cell_type": "code",
   "execution_count": null,
   "metadata": {
    "ExecuteTime": {
     "end_time": "2017-06-28T15:50:39.265500Z",
     "start_time": "2017-06-28T14:50:38.833Z"
    },
    "collapsed": true
   },
   "outputs": [],
   "source": [
    "# cross check\n",
    "print(len(editcounts_items))\n",
    "print(len(li))\n",
    "print(len(startenddates_items_o))\n",
    "print(len(gi))\n",
    "print('--')\n",
    "print(len(editcounts_notools_items))\n",
    "print(len(lint))\n",
    "print(len(startenddates_notools_items_o))\n",
    "print(len(gint))"
   ]
  },
  {
   "cell_type": "markdown",
   "metadata": {},
   "source": [
    "# cross check\n",
    "print(type(lifespans_items))\n",
    "print(type(gone_items))\n",
    "print(type(li))\n",
    "print(li.head())"
   ]
  },
  {
   "cell_type": "code",
   "execution_count": null,
   "metadata": {
    "ExecuteTime": {
     "end_time": "2017-06-28T15:50:39.265989Z",
     "start_time": "2017-06-28T14:50:38.839Z"
    },
    "collapsed": true
   },
   "outputs": [],
   "source": [
    "# users_items = pd.read_csv('userdata_2404_allitemsdata.csv', usecols=[0,1,2,3,4,5],names = ['revContributor','editCount','lifespan','start','end','gone'])\n",
    "#users_notools_items = pd.read_csv('userdata_2404_notoolsitemsdata.csv', usecols=[0,1,2,3,4,5],names = ['revContributor','editCount','lifespan','start','end','gone'])\n"
   ]
  },
  {
   "cell_type": "markdown",
   "metadata": {},
   "source": [
    "# Groups of users (simple split) "
   ]
  },
  {
   "cell_type": "code",
   "execution_count": null,
   "metadata": {
    "ExecuteTime": {
     "end_time": "2017-06-28T15:50:39.266468Z",
     "start_time": "2017-06-28T14:50:38.845Z"
    },
    "collapsed": true
   },
   "outputs": [],
   "source": [
    "users_items = pd.read_csv('userdata_2305_allitemsdata.csv', usecols=[0,1,2,3,4,5])\n",
    "users_notools_items = pd.read_csv('userdata_2305_notoolsitemsdata.csv', usecols=[0,1,2,3,4,5])\n"
   ]
  },
  {
   "cell_type": "code",
   "execution_count": null,
   "metadata": {
    "ExecuteTime": {
     "end_time": "2017-06-28T15:50:39.266948Z",
     "start_time": "2017-06-28T14:50:38.852Z"
    },
    "collapsed": true
   },
   "outputs": [],
   "source": [
    "gone = users_items.loc[users_items['gone']==1]\n",
    "print(len(gone)/len(users_items))"
   ]
  },
  {
   "cell_type": "code",
   "execution_count": null,
   "metadata": {
    "ExecuteTime": {
     "end_time": "2017-06-28T15:50:39.267428Z",
     "start_time": "2017-06-28T14:50:38.860Z"
    },
    "collapsed": true
   },
   "outputs": [],
   "source": [
    "print(len(users_items))\n",
    "print(len(users_notools_items))"
   ]
  },
  {
   "cell_type": "code",
   "execution_count": null,
   "metadata": {
    "ExecuteTime": {
     "end_time": "2017-06-28T15:50:39.267903Z",
     "start_time": "2017-06-28T14:50:38.867Z"
    },
    "collapsed": true
   },
   "outputs": [],
   "source": [
    "users_items.head()"
   ]
  },
  {
   "cell_type": "code",
   "execution_count": null,
   "metadata": {
    "ExecuteTime": {
     "end_time": "2017-06-28T15:50:39.268900Z",
     "start_time": "2017-06-28T14:50:38.877Z"
    },
    "collapsed": true
   },
   "outputs": [],
   "source": [
    "users_notools_items.head()"
   ]
  },
  {
   "cell_type": "code",
   "execution_count": null,
   "metadata": {
    "ExecuteTime": {
     "end_time": "2017-06-28T15:50:39.270113Z",
     "start_time": "2017-06-28T14:50:38.884Z"
    },
    "collapsed": true
   },
   "outputs": [],
   "source": [
    "print('users items: gone ')\n",
    "print(len(users_items.loc[(users_items['gone'] == 1)]))\n",
    "print('users items: not gone ')\n",
    "print(len(users_items.loc[(users_items['gone'] == 0)]))\n",
    "print('users items: total ')\n",
    "print(len(users_items))"
   ]
  },
  {
   "cell_type": "code",
   "execution_count": null,
   "metadata": {
    "ExecuteTime": {
     "end_time": "2017-06-28T15:50:39.271341Z",
     "start_time": "2017-06-28T14:50:38.893Z"
    },
    "collapsed": true
   },
   "outputs": [],
   "source": [
    "print('users no tools items: gone ')\n",
    "print(len(users_notools_items.loc[(users_notools_items['gone'] == 1)])) # .revContributor.unique() #['revContributor']\n",
    "print('users no tools items: not gone ')\n",
    "print(len(users_notools_items.loc[(users_notools_items['gone'] == 0)]))\n",
    "print('users no tools items: total ')\n",
    "print(len(users_notools_items))"
   ]
  },
  {
   "cell_type": "code",
   "execution_count": null,
   "metadata": {
    "ExecuteTime": {
     "end_time": "2017-06-28T15:50:39.272354Z",
     "start_time": "2017-06-28T14:50:38.900Z"
    },
    "collapsed": true
   },
   "outputs": [],
   "source": [
    "users_notools_items.revContributor.max()"
   ]
  },
  {
   "cell_type": "code",
   "execution_count": null,
   "metadata": {
    "ExecuteTime": {
     "end_time": "2017-06-28T15:50:39.273343Z",
     "start_time": "2017-06-28T14:50:38.907Z"
    },
    "collapsed": true
   },
   "outputs": [],
   "source": [
    "del data_sessions_notools\n",
    "del data_sessions_tools\n",
    "gc.collect()"
   ]
  },
  {
   "cell_type": "code",
   "execution_count": null,
   "metadata": {
    "ExecuteTime": {
     "end_time": "2017-06-28T15:50:39.274482Z",
     "start_time": "2017-06-28T14:50:38.915Z"
    },
    "collapsed": true
   },
   "outputs": [],
   "source": [
    "\n",
    "#generateuserdatafile(editcounts_items,lifespans_items,startenddates_items,gone_items,\"allitemsdata\")\n",
    "#generateuserdatafile(editcounts_notools_items,lifespans_notools_items,startenddates_notools_items,gone_notools_items,\"notoolsitemsdata\")"
   ]
  },
  {
   "cell_type": "markdown",
   "metadata": {},
   "source": [
    "## Volume of Edits groups"
   ]
  },
  {
   "cell_type": "code",
   "execution_count": null,
   "metadata": {
    "ExecuteTime": {
     "end_time": "2017-06-28T15:50:39.275631Z",
     "start_time": "2017-06-28T14:50:38.921Z"
    },
    "collapsed": true
   },
   "outputs": [],
   "source": [
    "# we need to analyse the users having different behaviour, and in general differentiate between \n",
    "# the people that we filter out (because we cannot learn anything from them, like the people with one edit whose evolution will be unknow) and\n",
    "# the people that we want to compare because they have different behavioural patterns"
   ]
  },
  {
   "cell_type": "code",
   "execution_count": null,
   "metadata": {
    "ExecuteTime": {
     "end_time": "2017-06-28T15:50:39.276671Z",
     "start_time": "2017-06-28T14:50:38.929Z"
    },
    "collapsed": true
   },
   "outputs": [],
   "source": [
    "print(users_items['editCount'].head())"
   ]
  },
  {
   "cell_type": "code",
   "execution_count": null,
   "metadata": {
    "ExecuteTime": {
     "end_time": "2017-06-28T15:50:39.277741Z",
     "start_time": "2017-06-28T14:50:38.939Z"
    },
    "collapsed": true
   },
   "outputs": [],
   "source": [
    "print(users_items['editCount'].describe())\n",
    "print(users_notools_items['editCount'].describe())\n",
    "\n"
   ]
  },
  {
   "cell_type": "code",
   "execution_count": null,
   "metadata": {
    "ExecuteTime": {
     "end_time": "2017-06-28T15:50:39.286862Z",
     "start_time": "2017-06-28T14:50:38.946Z"
    },
    "collapsed": true
   },
   "outputs": [],
   "source": [
    "# LET5 Less or Equal Than 5\n",
    "# MT5 More Than 5\n",
    "# LT5 Less Than\n",
    "users_items_LT5 = users_items.loc[users_items['editCount'] < 5]\n",
    "users_items_MET5 = users_items.loc[users_items['editCount'] >= 5]\n",
    "print('users in items no tools + tools that have less edit counts than 5: '+str(len(users_items_LT5)) + ' out of ' + str(len(users_items)))\n",
    "\n",
    "users_items_LT53 = users_items.loc[users_items['editCount'] < 53]\n",
    "print('users in items no tools + tools that have less edit counts than 53: '+str(len(users_items_LT53)) + ' out of ' + str(len(users_items)))\n",
    "\n",
    "print('------')\n",
    "\n",
    "users_notools_items_LT5 = users_notools_items.loc[users_notools_items['editCount'] < 5]\n",
    "users_notools_items_MET5 = users_notools_items.loc[users_notools_items['editCount'] >= 5]\n",
    "print('users in items no tools + tools that have less edit counts than 5: '+str(len(users_notools_items_LT5)) + ' out of ' + str(len(users_notools_items)))\n",
    "users_notools_items_LT53 = users_notools_items.loc[users_notools_items['editCount'] < 53]\n",
    "print('users in items no tools + tools that have less edit counts than 53: '+str(len(users_notools_items_LT53)) + ' out of ' + str(len(users_notools_items)))"
   ]
  },
  {
   "cell_type": "code",
   "execution_count": null,
   "metadata": {
    "ExecuteTime": {
     "end_time": "2017-06-28T15:50:39.287890Z",
     "start_time": "2017-06-28T14:50:38.954Z"
    },
    "collapsed": true
   },
   "outputs": [],
   "source": [
    "fig,ax = plt.subplots()\n",
    "users_items_MET5.hist(column='editCount',ax=ax,bins=50)\n",
    "ax.set_yscale('log')\n",
    "\n"
   ]
  },
  {
   "cell_type": "code",
   "execution_count": null,
   "metadata": {
    "ExecuteTime": {
     "end_time": "2017-06-28T15:50:39.292545Z",
     "start_time": "2017-06-28T14:50:38.961Z"
    },
    "collapsed": true
   },
   "outputs": [],
   "source": [
    "fig,ax = plt.subplots()\n",
    "users_notools_items.hist(column='editCount',ax=ax,bins=80)\n",
    "ax.set_yscale('log')"
   ]
  },
  {
   "cell_type": "code",
   "execution_count": null,
   "metadata": {
    "ExecuteTime": {
     "end_time": "2017-06-28T15:50:39.293582Z",
     "start_time": "2017-06-28T14:50:38.969Z"
    },
    "collapsed": true
   },
   "outputs": [],
   "source": [
    "len(users_items.loc[users_items['editCount']==58])"
   ]
  },
  {
   "cell_type": "code",
   "execution_count": null,
   "metadata": {
    "ExecuteTime": {
     "end_time": "2017-06-28T15:50:39.294637Z",
     "start_time": "2017-06-28T14:50:38.978Z"
    },
    "collapsed": true
   },
   "outputs": [],
   "source": [
    "sizes = users_items.groupby(['editCount']).size()\n",
    "print(sizes)"
   ]
  },
  {
   "cell_type": "markdown",
   "metadata": {
    "scrolled": true
   },
   "source": [
    "scale_sizes = np.array([1, 5, 10, 316, 1000, 2000, 5000, 100000])\n",
    "\n",
    "fig,ax = plt.subplots()\n",
    "sizes.hist(ax=ax,bins=100,scale=scale_sizes)\n",
    "ax.set_yscale('log')\n"
   ]
  },
  {
   "cell_type": "code",
   "execution_count": null,
   "metadata": {
    "ExecuteTime": {
     "end_time": "2017-06-28T15:50:39.331774Z",
     "start_time": "2017-06-28T14:50:38.986Z"
    },
    "collapsed": true
   },
   "outputs": [],
   "source": [
    "sf = sizes.reset_index()\n",
    "smallfrequency = sf.loc[sf['editCount']<=5]"
   ]
  },
  {
   "cell_type": "code",
   "execution_count": null,
   "metadata": {
    "ExecuteTime": {
     "end_time": "2017-06-28T15:50:39.332974Z",
     "start_time": "2017-06-28T14:50:38.996Z"
    },
    "collapsed": true
   },
   "outputs": [],
   "source": [
    "smallfrequency.head()"
   ]
  },
  {
   "cell_type": "code",
   "execution_count": null,
   "metadata": {
    "ExecuteTime": {
     "end_time": "2017-06-28T15:50:39.334411Z",
     "start_time": "2017-06-28T14:50:39.004Z"
    },
    "collapsed": true
   },
   "outputs": [],
   "source": [
    "# Volume of edits\n",
    "#minvolume = users_items_notools.loc[users_items_notools['editCount'] >= 53.0]\n",
    "#feweditsp_users = minvolume.loc[minvolume['editCount'] < XX]\n",
    "#manyedits_users = minvolume.loc[minvolume['editCount'] >= XX]\n",
    "# Lifespan\n",
    "#minlifespan = users_items_notools.loc[users_items_notools['lifespan'] >= 0.0]\n",
    "#shortlifespan_users = minlifespan.loc[minlifespan['lifespan'] < XX]\n",
    "#longlifespan_users = minlifespan.loc[minlifespan['lifespan'] >= XX]\n"
   ]
  },
  {
   "cell_type": "markdown",
   "metadata": {},
   "source": [
    "## Lifespan groups"
   ]
  },
  {
   "cell_type": "code",
   "execution_count": null,
   "metadata": {
    "collapsed": true
   },
   "outputs": [],
   "source": []
  },
  {
   "cell_type": "code",
   "execution_count": null,
   "metadata": {
    "collapsed": true
   },
   "outputs": [],
   "source": []
  },
  {
   "cell_type": "markdown",
   "metadata": {},
   "source": [
    "# Splitting the user files to run in paralell"
   ]
  },
  {
   "cell_type": "markdown",
   "metadata": {},
   "source": [
    "def user_selection(users_items,low,upper):\n",
    "    # filter the users\n",
    "    users_items = users_items.loc[(users_items['editCount'] > low)  & (users_items['editCount'] <= upper)]\n",
    "    \n",
    "    # select the data of the filtered users\n",
    "    users_set = set(users_items['revContributor'])\n",
    "    data_subset = alldata_items.loc[alldata_items['revContributor'].isin(users_set)]\n",
    "    \n",
    "    # print into files\n",
    "    users_items.to_csv('users_items_'+str(upper)+'.csv',index=False)  \n",
    "    data_subset.to_csv('commondata_items_2304_'+str(upper)+'.csv',index=False)\n",
    "    \n",
    "    return users_items\n",
    "    # users_notools_items.to_csv('users_items_'+upper+'.csv',index=False)\n",
    "    "
   ]
  },
  {
   "cell_type": "markdown",
   "metadata": {},
   "source": [
    "u1 = user_selection(users_items,0,1)\n",
    "u3 = user_selection(users_items,1,3)\n",
    "u10 = user_selection(users_items,3,10)\n",
    "u32 = user_selection(users_items,10,32)\n",
    "u100 = user_selection(users_items,32,100)\n",
    "u316= user_selection(users_items,100,316)\n",
    "u1000 = user_selection(users_items,316,1000)\n",
    "u3162 = user_selection(users_items,1000,3162)\n",
    "u10000 = user_selection(users_items,3162,10000)\n",
    "u31623 = user_selection(users_items,10000,31623)\n",
    "u100000 = user_selection(users_items,31623,100000)\n",
    "u316228 = user_selection(users_items,100000,316228)\n",
    "u1000000 = user_selection(users_items,316228,1000000)\n",
    "u3162278 = user_selection(users_items,1000000,3162278)\n",
    "u10000000 = user_selection(users_items,3162278,10000000)"
   ]
  },
  {
   "cell_type": "code",
   "execution_count": null,
   "metadata": {
    "ExecuteTime": {
     "end_time": "2017-06-28T15:50:39.335565Z",
     "start_time": "2017-06-28T14:50:39.015Z"
    },
    "collapsed": true
   },
   "outputs": [],
   "source": [
    "print(len(u31623))\n",
    "print(len(u316228))"
   ]
  },
  {
   "cell_type": "code",
   "execution_count": null,
   "metadata": {
    "ExecuteTime": {
     "end_time": "2017-06-28T15:50:39.336741Z",
     "start_time": "2017-06-28T14:50:39.023Z"
    },
    "collapsed": true
   },
   "outputs": [],
   "source": [
    "\n",
    "usiz = sf[(sf['editCount']<=10000) & (sf['editCount']>3162)]\n",
    "usiz[0].describe()"
   ]
  },
  {
   "cell_type": "markdown",
   "metadata": {
    "collapsed": true
   },
   "source": [
    "# Analysis of distributions"
   ]
  },
  {
   "cell_type": "code",
   "execution_count": null,
   "metadata": {
    "ExecuteTime": {
     "end_time": "2017-06-28T15:50:39.337969Z",
     "start_time": "2017-06-28T14:50:39.032Z"
    },
    "collapsed": true
   },
   "outputs": [],
   "source": [
    "# the data is in (a) alldata_items (for all items with and without tools) and (b) users_items\n"
   ]
  },
  {
   "cell_type": "markdown",
   "metadata": {},
   "source": [
    "# Other analysis"
   ]
  },
  {
   "cell_type": "code",
   "execution_count": null,
   "metadata": {
    "ExecuteTime": {
     "end_time": "2017-06-28T15:50:39.339091Z",
     "start_time": "2017-06-28T14:50:39.042Z"
    },
    "collapsed": true
   },
   "outputs": [],
   "source": [
    "u316228.head()"
   ]
  },
  {
   "cell_type": "code",
   "execution_count": null,
   "metadata": {
    "ExecuteTime": {
     "end_time": "2017-06-28T15:50:39.340310Z",
     "start_time": "2017-06-28T14:50:39.051Z"
    },
    "collapsed": true
   },
   "outputs": [],
   "source": [
    "u316228set = set(u316228['revContributor'])\n",
    "# add the column indicating whether the revPage column is a reference to an ID of an item page or an ID of a non-item page\n",
    "data_notools_items_u316228 = data_notools_items.loc[data_notools_items['revContributor'].isin(u316228set)]\n"
   ]
  },
  {
   "cell_type": "code",
   "execution_count": null,
   "metadata": {
    "ExecuteTime": {
     "end_time": "2017-06-28T15:50:39.347285Z",
     "start_time": "2017-06-28T14:50:39.071Z"
    },
    "collapsed": true
   },
   "outputs": [],
   "source": [
    "u348edits = data_notools_items_u316228.loc[data_notools_items_u316228['revContributor'] == 348]\n",
    "u348edits.head(50)"
   ]
  },
  {
   "cell_type": "markdown",
   "metadata": {
    "collapsed": true
   },
   "source": [
    "# People analysis"
   ]
  },
  {
   "cell_type": "code",
   "execution_count": null,
   "metadata": {
    "ExecuteTime": {
     "end_time": "2017-06-28T15:50:39.348394Z",
     "start_time": "2017-06-28T14:50:39.082Z"
    },
    "collapsed": true
   },
   "outputs": [],
   "source": [
    "uLT100 = users_items.loc[users_items['editCount'] < 100]\n",
    "print('editors with volume of edits smaller than 100 '+str(len(uLT100)))\n",
    "print('total editors '+str(len(users_items)))\n",
    "{"
   ]
  },
  {
   "cell_type": "code",
   "execution_count": null,
   "metadata": {
    "ExecuteTime": {
     "end_time": "2017-06-28T15:50:39.349575Z",
     "start_time": "2017-06-28T14:50:39.096Z"
    },
    "collapsed": true
   },
   "outputs": [],
   "source": [
    "testdata = alldata_items[0:100]\n",
    "testdata.to_csv('testdata_2305.csv',index=False)"
   ]
  },
  {
   "cell_type": "markdown",
   "metadata": {
    "collapsed": true
   },
   "source": [
    "# Re: Stats"
   ]
  },
  {
   "cell_type": "code",
   "execution_count": 27,
   "metadata": {
    "ExecuteTime": {
     "end_time": "2017-06-28T15:49:09.853490Z",
     "start_time": "2017-06-28T15:44:12.469021"
    },
    "collapsed": true
   },
   "outputs": [],
   "source": [
    "#data = pd.read_csv('CSV/commondata_23052017.csv', usecols=[0,1,2,3,4,5,6,7,8,9,10],parse_dates=[2]) \n",
    "\n",
    "users_items = pd.read_csv('CSV/userdata_2305_allitemsdata.csv', usecols=[0,1,2,3,4,5])#names = ['revContributor','editCount','lifespan','start','end','gone'])\n"
   ]
  },
  {
   "cell_type": "code",
   "execution_count": 38,
   "metadata": {
    "ExecuteTime": {
     "end_time": "2017-06-28T15:55:25.576734Z",
     "start_time": "2017-06-28T15:50:59.804339"
    },
    "collapsed": true
   },
   "outputs": [],
   "source": [
    "data_items= pd.read_csv('CSV/commondata_items_23052017.csv', usecols=[0,1,2,3,4,5,6,7,8,9,10],parse_dates=[2]) \n",
    "\n",
    "#users_items = pd.read_csv('CSV/userdata_2305_allitemsdata.csv', usecols=[0,1,2,3,4,5])#names = ['revContributor','editCount','lifespan','start','end','gone'])\n"
   ]
  },
  {
   "cell_type": "code",
   "execution_count": 39,
   "metadata": {
    "ExecuteTime": {
     "end_time": "2017-06-28T15:55:29.922424Z",
     "start_time": "2017-06-28T15:55:25.578110"
    },
    "collapsed": true
   },
   "outputs": [],
   "source": [
    "present = data_items['revContributor'].isin(users_items['revContributor'])"
   ]
  },
  {
   "cell_type": "code",
   "execution_count": 40,
   "metadata": {
    "ExecuteTime": {
     "end_time": "2017-06-28T15:55:33.843501Z",
     "start_time": "2017-06-28T15:55:29.923794"
    }
   },
   "outputs": [
    {
     "data": {
      "text/plain": [
       "True    86316640\n",
       "Name: revContributor, dtype: int64"
      ]
     },
     "execution_count": 40,
     "metadata": {},
     "output_type": "execute_result"
    }
   ],
   "source": [
    "present.value_counts()"
   ]
  },
  {
   "cell_type": "code",
   "execution_count": 41,
   "metadata": {
    "ExecuteTime": {
     "end_time": "2017-06-28T15:55:36.777642Z",
     "start_time": "2017-06-28T15:55:33.844836"
    }
   },
   "outputs": [
    {
     "ename": "TypeError",
     "evalue": "unsupported operand type(s) for &: 'tuple' and 'tuple'",
     "output_type": "error",
     "traceback": [
      "\u001b[0;31m---------------------------------------------------------------------------\u001b[0m",
      "\u001b[0;31mTypeError\u001b[0m                                 Traceback (most recent call last)",
      "\u001b[0;32m<ipython-input-41-a9db64e129be>\u001b[0m in \u001b[0;36m<module>\u001b[0;34m()\u001b[0m\n\u001b[1;32m      1\u001b[0m \u001b[0mtooledits\u001b[0m \u001b[0;34m=\u001b[0m \u001b[0mdata\u001b[0m\u001b[0;34m.\u001b[0m\u001b[0mloc\u001b[0m\u001b[0;34m[\u001b[0m\u001b[0mdata\u001b[0m\u001b[0;34m[\u001b[0m\u001b[0;34m'isTool'\u001b[0m\u001b[0;34m]\u001b[0m \u001b[0;34m==\u001b[0m \u001b[0;32mTrue\u001b[0m\u001b[0;34m]\u001b[0m\u001b[0;34m\u001b[0m\u001b[0m\n\u001b[1;32m      2\u001b[0m \u001b[0mnotooledits\u001b[0m \u001b[0;34m=\u001b[0m \u001b[0mdata\u001b[0m\u001b[0;34m.\u001b[0m\u001b[0mloc\u001b[0m\u001b[0;34m[\u001b[0m\u001b[0mdata\u001b[0m\u001b[0;34m[\u001b[0m\u001b[0;34m'isTool'\u001b[0m\u001b[0;34m]\u001b[0m \u001b[0;34m==\u001b[0m \u001b[0;32mFalse\u001b[0m\u001b[0;34m]\u001b[0m\u001b[0;34m\u001b[0m\u001b[0m\n\u001b[0;32m----> 3\u001b[0;31m \u001b[0mnotoolsgone\u001b[0m \u001b[0;34m=\u001b[0m \u001b[0mdata\u001b[0m\u001b[0;34m.\u001b[0m\u001b[0mloc\u001b[0m\u001b[0;34m[\u001b[0m\u001b[0;34m(\u001b[0m\u001b[0;34m)\u001b[0m\u001b[0;34m&\u001b[0m\u001b[0;34m(\u001b[0m\u001b[0;34m)\u001b[0m\u001b[0;34m]\u001b[0m\u001b[0;34m\u001b[0m\u001b[0m\n\u001b[0m",
      "\u001b[0;31mTypeError\u001b[0m: unsupported operand type(s) for &: 'tuple' and 'tuple'"
     ]
    }
   ],
   "source": [
    "tooledits = data.loc[data['isTool'] == True]\n",
    "notooledits = data.loc[data['isTool'] == False]\n"
   ]
  },
  {
   "cell_type": "code",
   "execution_count": 42,
   "metadata": {
    "ExecuteTime": {
     "end_time": "2017-06-28T16:02:29.296759Z",
     "start_time": "2017-06-28T16:02:21.359101"
    }
   },
   "outputs": [
    {
     "name": "stdout",
     "output_type": "stream",
     "text": [
      "52345356\n",
      "35069629\n"
     ]
    }
   ],
   "source": [
    "print(tooledits.revId.nunique())\n",
    "print(notooledits.revId.nunique())"
   ]
  },
  {
   "cell_type": "code",
   "execution_count": 43,
   "metadata": {
    "ExecuteTime": {
     "end_time": "2017-06-28T16:02:29.627379Z",
     "start_time": "2017-06-28T16:02:29.298104"
    }
   },
   "outputs": [
    {
     "name": "stdout",
     "output_type": "stream",
     "text": [
      "6060\n",
      "142643\n"
     ]
    }
   ],
   "source": [
    "print(tooledits.revContributor.nunique())\n",
    "print(notooledits.revContributor.nunique())"
   ]
  },
  {
   "cell_type": "code",
   "execution_count": 44,
   "metadata": {
    "ExecuteTime": {
     "end_time": "2017-06-28T16:02:32.451146Z",
     "start_time": "2017-06-28T16:02:29.628646"
    },
    "collapsed": true
   },
   "outputs": [],
   "source": [
    "tooledits_items = tooledits.loc[tooledits['isItem']==True]\n",
    "tooledits_noitems = tooledits.loc[tooledits['isItem']==False]\n",
    "\n",
    "notooledits_items = notooledits.loc[notooledits['isItem']==True]\n",
    "notooledits_noitems = notooledits.loc[notooledits['isItem']==False]"
   ]
  },
  {
   "cell_type": "code",
   "execution_count": 45,
   "metadata": {
    "ExecuteTime": {
     "end_time": "2017-06-28T16:02:32.593316Z",
     "start_time": "2017-06-28T16:02:32.452461"
    }
   },
   "outputs": [
    {
     "data": {
      "text/plain": [
       "139549"
      ]
     },
     "execution_count": 45,
     "metadata": {},
     "output_type": "execute_result"
    }
   ],
   "source": [
    "notooledits_items.revContributor.nunique()"
   ]
  },
  {
   "cell_type": "code",
   "execution_count": 46,
   "metadata": {
    "ExecuteTime": {
     "end_time": "2017-06-28T16:02:34.743499Z",
     "start_time": "2017-06-28T16:02:32.594603"
    }
   },
   "outputs": [
    {
     "name": "stdout",
     "output_type": "stream",
     "text": [
      "13065045\n",
      "1392\n",
      "7633131\n",
      "176892\n"
     ]
    }
   ],
   "source": [
    "print(tooledits_items.revPage.nunique())\n",
    "print(tooledits_noitems.revPage.nunique())\n",
    "\n",
    "\n",
    "\n",
    "\n",
    "print(notooledits_items.revPage.nunique())\n",
    "print(notooledits_noitems.revPage.nunique())"
   ]
  },
  {
   "cell_type": "code",
   "execution_count": null,
   "metadata": {
    "collapsed": true
   },
   "outputs": [],
   "source": []
  },
  {
   "cell_type": "code",
   "execution_count": 47,
   "metadata": {
    "ExecuteTime": {
     "end_time": "2017-06-28T16:02:39.490823Z",
     "start_time": "2017-06-28T16:02:34.744779"
    }
   },
   "outputs": [
    {
     "data": {
      "text/plain": [
       "87414985"
      ]
     },
     "execution_count": 47,
     "metadata": {},
     "output_type": "execute_result"
    }
   ],
   "source": [
    "data.revId.nunique()"
   ]
  },
  {
   "cell_type": "code",
   "execution_count": 48,
   "metadata": {
    "ExecuteTime": {
     "end_time": "2017-06-28T16:02:39.953071Z",
     "start_time": "2017-06-28T16:02:39.492015"
    }
   },
   "outputs": [
    {
     "data": {
      "text/plain": [
       "143420"
      ]
     },
     "execution_count": 48,
     "metadata": {},
     "output_type": "execute_result"
    }
   ],
   "source": [
    "data.revContributor.nunique()"
   ]
  },
  {
   "cell_type": "code",
   "execution_count": 49,
   "metadata": {
    "ExecuteTime": {
     "end_time": "2017-06-28T16:02:41.819864Z",
     "start_time": "2017-06-28T16:02:39.954287"
    }
   },
   "outputs": [
    {
     "data": {
      "text/plain": [
       "15774121"
      ]
     },
     "execution_count": 49,
     "metadata": {},
     "output_type": "execute_result"
    }
   ],
   "source": [
    "data.revPage.nunique()"
   ]
  },
  {
   "cell_type": "code",
   "execution_count": 50,
   "metadata": {
    "ExecuteTime": {
     "end_time": "2017-06-28T16:02:41.828473Z",
     "start_time": "2017-06-28T16:02:41.821187"
    }
   },
   "outputs": [
    {
     "data": {
      "text/plain": [
       "140330"
      ]
     },
     "execution_count": 50,
     "metadata": {},
     "output_type": "execute_result"
    }
   ],
   "source": [
    "users_items.revContributor.nunique()"
   ]
  },
  {
   "cell_type": "code",
   "execution_count": 51,
   "metadata": {
    "ExecuteTime": {
     "end_time": "2017-06-28T16:02:42.004334Z",
     "start_time": "2017-06-28T16:02:41.829826"
    },
    "collapsed": true
   },
   "outputs": [],
   "source": [
    "users_items_notools = pd.read_csv('CSV/userdata_2305_notoolsitemsdata.csv', usecols=[0,1,2,3,4,5])#names = ['revContributor','editCount','lifespan','start','end','gone'])\n"
   ]
  },
  {
   "cell_type": "markdown",
   "metadata": {},
   "source": [
    "# Volume of Edits Histogram"
   ]
  },
  {
   "cell_type": "code",
   "execution_count": 52,
   "metadata": {
    "ExecuteTime": {
     "end_time": "2017-06-28T16:02:42.190762Z",
     "start_time": "2017-06-28T16:02:42.005734"
    },
    "collapsed": true
   },
   "outputs": [],
   "source": [
    "users_items_notools['logEditCount'] = users_items_notools['editCount'].apply(lambda x: np.log(1+x))"
   ]
  },
  {
   "cell_type": "code",
   "execution_count": 101,
   "metadata": {
    "ExecuteTime": {
     "end_time": "2017-06-28T18:55:56.213940Z",
     "start_time": "2017-06-28T18:55:55.592387"
    }
   },
   "outputs": [
    {
     "data": {
      "text/plain": [
       "<matplotlib.text.Text at 0x7f21c6c43d68>"
      ]
     },
     "execution_count": 101,
     "metadata": {},
     "output_type": "execute_result"
    },
    {
     "data": {
      "image/png": "[encoded data removed]",
      "text/plain": [
       "<matplotlib.figure.Figure at 0x7f21c69d45f8>"
      ]
     },
     "metadata": {},
     "output_type": "display_data"
    }
   ],
   "source": [
    "users_items_notools.hist(column='logEditCount',bins=50,log=True)\n",
    "#plt.title('Volume of Edits')\n",
    "\n",
    "plt.pyplot.xlabel('Log Edit Count');\n",
    "plt.pyplot.ylabel('Frequency')\n",
    "plt.pyplot.title('')\n",
    "#plt.show()"
   ]
  },
  {
   "cell_type": "code",
   "execution_count": null,
   "metadata": {
    "collapsed": true
   },
   "outputs": [],
   "source": []
  },
  {
   "cell_type": "code",
   "execution_count": 54,
   "metadata": {
    "ExecuteTime": {
     "end_time": "2017-06-28T16:02:42.838824Z",
     "start_time": "2017-06-28T16:02:42.826456"
    }
   },
   "outputs": [
    {
     "data": {
      "text/plain": [
       "count    1.395490e+05\n",
       "mean     2.452043e+02\n",
       "std      7.223193e+03\n",
       "min      1.000000e+00\n",
       "25%      1.000000e+00\n",
       "50%      2.000000e+00\n",
       "75%      9.000000e+00\n",
       "max      2.010637e+06\n",
       "Name: editCount, dtype: float64"
      ]
     },
     "execution_count": 54,
     "metadata": {},
     "output_type": "execute_result"
    }
   ],
   "source": [
    "users_items_notools['editCount'].describe()"
   ]
  },
  {
   "cell_type": "code",
   "execution_count": null,
   "metadata": {
    "collapsed": true
   },
   "outputs": [],
   "source": []
  },
  {
   "cell_type": "markdown",
   "metadata": {
    "ExecuteTime": {
     "end_time": "2017-06-28T06:31:24.423357Z",
     "start_time": "2017-06-28T06:31:24.419849"
    }
   },
   "source": [
    "# Lifespan histogram "
   ]
  },
  {
   "cell_type": "code",
   "execution_count": 55,
   "metadata": {
    "ExecuteTime": {
     "end_time": "2017-06-28T16:02:42.849784Z",
     "start_time": "2017-06-28T16:02:42.839894"
    }
   },
   "outputs": [
    {
     "data": {
      "text/html": [
       "<div>\n",
       "<table border=\"1\" class=\"dataframe\">\n",
       "  <thead>\n",
       "    <tr style=\"text-align: right;\">\n",
       "      <th></th>\n",
       "      <th>revContributor</th>\n",
       "      <th>editCount</th>\n",
       "      <th>lifespan</th>\n",
       "      <th>start</th>\n",
       "      <th>end</th>\n",
       "      <th>gone</th>\n",
       "      <th>logEditCount</th>\n",
       "    </tr>\n",
       "  </thead>\n",
       "  <tbody>\n",
       "    <tr>\n",
       "      <th>0</th>\n",
       "      <td>1</td>\n",
       "      <td>1901</td>\n",
       "      <td>44.333333</td>\n",
       "      <td>2012-11-01 00:21:16</td>\n",
       "      <td>2016-06-23 14:46:51</td>\n",
       "      <td>0</td>\n",
       "      <td>7.550661</td>\n",
       "    </tr>\n",
       "    <tr>\n",
       "      <th>1</th>\n",
       "      <td>2</td>\n",
       "      <td>1049</td>\n",
       "      <td>41.700000</td>\n",
       "      <td>2012-10-29 17:41:05</td>\n",
       "      <td>2016-04-03 12:21:35</td>\n",
       "      <td>0</td>\n",
       "      <td>6.956545</td>\n",
       "    </tr>\n",
       "    <tr>\n",
       "      <th>2</th>\n",
       "      <td>3</td>\n",
       "      <td>340</td>\n",
       "      <td>39.900000</td>\n",
       "      <td>2013-03-21 23:43:18</td>\n",
       "      <td>2016-07-01 15:10:56</td>\n",
       "      <td>0</td>\n",
       "      <td>5.831882</td>\n",
       "    </tr>\n",
       "    <tr>\n",
       "      <th>3</th>\n",
       "      <td>4</td>\n",
       "      <td>266</td>\n",
       "      <td>19.866667</td>\n",
       "      <td>2012-10-31 01:35:44</td>\n",
       "      <td>2014-06-19 05:46:47</td>\n",
       "      <td>1</td>\n",
       "      <td>5.587249</td>\n",
       "    </tr>\n",
       "    <tr>\n",
       "      <th>4</th>\n",
       "      <td>7</td>\n",
       "      <td>1</td>\n",
       "      <td>0.000000</td>\n",
       "      <td>2014-04-28 01:03:37</td>\n",
       "      <td>2014-04-28 01:03:37</td>\n",
       "      <td>1</td>\n",
       "      <td>0.693147</td>\n",
       "    </tr>\n",
       "  </tbody>\n",
       "</table>\n",
       "</div>"
      ],
      "text/plain": [
       "   revContributor  editCount   lifespan                start  \\\n",
       "0               1       1901  44.333333  2012-11-01 00:21:16   \n",
       "1               2       1049  41.700000  2012-10-29 17:41:05   \n",
       "2               3        340  39.900000  2013-03-21 23:43:18   \n",
       "3               4        266  19.866667  2012-10-31 01:35:44   \n",
       "4               7          1   0.000000  2014-04-28 01:03:37   \n",
       "\n",
       "                   end  gone  logEditCount  \n",
       "0  2016-06-23 14:46:51     0      7.550661  \n",
       "1  2016-04-03 12:21:35     0      6.956545  \n",
       "2  2016-07-01 15:10:56     0      5.831882  \n",
       "3  2014-06-19 05:46:47     1      5.587249  \n",
       "4  2014-04-28 01:03:37     1      0.693147  "
      ]
     },
     "execution_count": 55,
     "metadata": {},
     "output_type": "execute_result"
    }
   ],
   "source": [
    "users_items_notools.head()"
   ]
  },
  {
   "cell_type": "code",
   "execution_count": 105,
   "metadata": {
    "ExecuteTime": {
     "end_time": "2017-06-28T18:57:17.421561Z",
     "start_time": "2017-06-28T18:57:16.888277"
    }
   },
   "outputs": [
    {
     "data": {
      "text/plain": [
       "<matplotlib.text.Text at 0x7f21c4e70c18>"
      ]
     },
     "execution_count": 105,
     "metadata": {},
     "output_type": "execute_result"
    },
    {
     "data": {
      "image/png": "[encoded data removed]",
      "text/plain": [
       "<matplotlib.figure.Figure at 0x7f21c4f5d668>"
      ]
     },
     "metadata": {},
     "output_type": "display_data"
    }
   ],
   "source": [
    "users_items_notools.hist(column='lifespan',bins=50,log=True)\n",
    "plt.pyplot.xlabel('Lifespan of Editors in Number of Months')\n",
    "plt.pyplot.ylabel('Frequency')\n",
    "plt.pyplot.title('')\n",
    "#plt.title('Lifespan')"
   ]
  },
  {
   "cell_type": "code",
   "execution_count": 57,
   "metadata": {
    "ExecuteTime": {
     "end_time": "2017-06-28T16:02:43.331270Z",
     "start_time": "2017-06-28T16:02:43.319091"
    }
   },
   "outputs": [
    {
     "data": {
      "text/plain": [
       "count    139549.000000\n",
       "mean          6.165338\n",
       "std          11.204758\n",
       "min           0.000000\n",
       "25%           0.000000\n",
       "50%           0.000000\n",
       "75%           7.100000\n",
       "max          44.700000\n",
       "Name: lifespan, dtype: float64"
      ]
     },
     "execution_count": 57,
     "metadata": {},
     "output_type": "execute_result"
    }
   ],
   "source": [
    "users_items_notools['lifespan'].describe()"
   ]
  },
  {
   "cell_type": "code",
   "execution_count": 58,
   "metadata": {
    "ExecuteTime": {
     "end_time": "2017-06-28T16:02:43.339046Z",
     "start_time": "2017-06-28T16:02:43.332464"
    },
    "collapsed": true
   },
   "outputs": [],
   "source": [
    "users_items_notools_gone = users_items_notools.loc[users_items_notools['gone'] == 1]"
   ]
  },
  {
   "cell_type": "code",
   "execution_count": 106,
   "metadata": {
    "ExecuteTime": {
     "end_time": "2017-06-28T18:57:37.117901Z",
     "start_time": "2017-06-28T18:57:36.374570"
    }
   },
   "outputs": [
    {
     "data": {
      "text/plain": [
       "<matplotlib.text.Text at 0x7f21c511b278>"
      ]
     },
     "execution_count": 106,
     "metadata": {},
     "output_type": "execute_result"
    },
    {
     "data": {
      "image/png": "[encoded data removed]",
      "text/plain": [
       "<matplotlib.figure.Figure at 0x7f21c4f46a20>"
      ]
     },
     "metadata": {},
     "output_type": "display_data"
    }
   ],
   "source": [
    "users_items_notools_gone.hist(column='lifespan',bins=50,log=True)\n",
    "plt.pyplot.xlabel('Lifespan of Editors in Number of Months')\n",
    "plt.pyplot.ylabel('Frequency')\n",
    "plt.pyplot.title('')\n",
    "#plt.title('Lifespan')"
   ]
  },
  {
   "cell_type": "code",
   "execution_count": 60,
   "metadata": {
    "ExecuteTime": {
     "end_time": "2017-06-28T16:02:43.851060Z",
     "start_time": "2017-06-28T16:02:43.842566"
    }
   },
   "outputs": [
    {
     "data": {
      "text/plain": [
       "count    75285.000000\n",
       "mean         2.156956\n",
       "std          5.319427\n",
       "min          0.000000\n",
       "25%          0.000000\n",
       "50%          0.000000\n",
       "75%          0.433333\n",
       "max         34.233333\n",
       "Name: lifespan, dtype: float64"
      ]
     },
     "execution_count": 60,
     "metadata": {},
     "output_type": "execute_result"
    }
   ],
   "source": [
    "users_items_notools_gone['lifespan'].describe()"
   ]
  },
  {
   "cell_type": "markdown",
   "metadata": {},
   "source": [
    "# Users per items"
   ]
  },
  {
   "cell_type": "code",
   "execution_count": 68,
   "metadata": {
    "ExecuteTime": {
     "end_time": "2017-06-28T16:16:23.876044Z",
     "start_time": "2017-06-28T16:16:23.873859"
    },
    "collapsed": true
   },
   "outputs": [],
   "source": [
    "def countdistincteditors(group):\n",
    "    return group['revContributor'].nunique()"
   ]
  },
  {
   "cell_type": "code",
   "execution_count": 76,
   "metadata": {
    "ExecuteTime": {
     "end_time": "2017-06-28T16:40:31.669043Z",
     "start_time": "2017-06-28T16:27:03.814278"
    },
    "collapsed": true
   },
   "outputs": [],
   "source": [
    "data_items_notools_gitem = notooledits_items.groupby(by='revPage')\n",
    "editors = data_items_notools_gitem.apply(countdistincteditors)"
   ]
  },
  {
   "cell_type": "code",
   "execution_count": 109,
   "metadata": {
    "ExecuteTime": {
     "end_time": "2017-06-28T18:58:12.022019Z",
     "start_time": "2017-06-28T18:58:11.115117"
    }
   },
   "outputs": [
    {
     "data": {
      "text/plain": [
       "<matplotlib.text.Text at 0x7f21c4b61940>"
      ]
     },
     "execution_count": 109,
     "metadata": {},
     "output_type": "execute_result"
    },
    {
     "data": {
      "image/png": "[encoded data removed]",
      "text/plain": [
       "<matplotlib.figure.Figure at 0x7f21c4b017f0>"
      ]
     },
     "metadata": {},
     "output_type": "display_data"
    }
   ],
   "source": [
    "editors.hist(bins=50,log=True)\n",
    "#plt.title('Users per Item')\n",
    "plt.pyplot.xlabel('Number of Users per Item');\n",
    "plt.pyplot.ylabel('Frequency in Log Scale')\n",
    "plt.pyplot.title('')"
   ]
  },
  {
   "cell_type": "code",
   "execution_count": 78,
   "metadata": {
    "ExecuteTime": {
     "end_time": "2017-06-28T16:40:32.649740Z",
     "start_time": "2017-06-28T16:40:32.302560"
    }
   },
   "outputs": [
    {
     "data": {
      "text/plain": [
       "count    7.633131e+06\n",
       "mean     2.159856e+00\n",
       "std      3.088948e+00\n",
       "min      1.000000e+00\n",
       "25%      1.000000e+00\n",
       "50%      1.000000e+00\n",
       "75%      2.000000e+00\n",
       "max      8.030000e+02\n",
       "dtype: float64"
      ]
     },
     "execution_count": 78,
     "metadata": {},
     "output_type": "execute_result"
    }
   ],
   "source": [
    "editors.describe()"
   ]
  },
  {
   "cell_type": "markdown",
   "metadata": {},
   "source": [
    "# User base"
   ]
  },
  {
   "cell_type": "code",
   "execution_count": null,
   "metadata": {
    "collapsed": true
   },
   "outputs": [],
   "source": []
  },
  {
   "cell_type": "code",
   "execution_count": null,
   "metadata": {
    "ExecuteTime": {
     "start_time": "2017-06-28T15:02:21.597Z"
    },
    "collapsed": true
   },
   "outputs": [],
   "source": [
    "# Start end and drop out"
   ]
  },
  {
   "cell_type": "code",
   "execution_count": null,
   "metadata": {
    "collapsed": true
   },
   "outputs": [],
   "source": []
  },
  {
   "cell_type": "code",
   "execution_count": 79,
   "metadata": {
    "ExecuteTime": {
     "end_time": "2017-06-28T16:42:42.654132Z",
     "start_time": "2017-06-28T16:42:42.649698"
    },
    "collapsed": true
   },
   "outputs": [],
   "source": [
    "def getyear(t):\n",
    "    timestamp = pd.to_datetime(t)\n",
    "    return timestamp.year"
   ]
  },
  {
   "cell_type": "code",
   "execution_count": 80,
   "metadata": {
    "ExecuteTime": {
     "end_time": "2017-06-28T16:43:00.350989Z",
     "start_time": "2017-06-28T16:42:44.881980"
    }
   },
   "outputs": [
    {
     "data": {
      "text/html": [
       "<div>\n",
       "<table border=\"1\" class=\"dataframe\">\n",
       "  <thead>\n",
       "    <tr style=\"text-align: right;\">\n",
       "      <th></th>\n",
       "      <th>revContributor</th>\n",
       "      <th>editCount</th>\n",
       "      <th>lifespan</th>\n",
       "      <th>start</th>\n",
       "      <th>end</th>\n",
       "      <th>gone</th>\n",
       "      <th>logEditCount</th>\n",
       "      <th>startyear</th>\n",
       "      <th>endyear</th>\n",
       "    </tr>\n",
       "  </thead>\n",
       "  <tbody>\n",
       "    <tr>\n",
       "      <th>0</th>\n",
       "      <td>1</td>\n",
       "      <td>1901</td>\n",
       "      <td>44.333333</td>\n",
       "      <td>2012-11-01 00:21:16</td>\n",
       "      <td>2016-06-23 14:46:51</td>\n",
       "      <td>0</td>\n",
       "      <td>7.550661</td>\n",
       "      <td>2012</td>\n",
       "      <td>2016</td>\n",
       "    </tr>\n",
       "    <tr>\n",
       "      <th>1</th>\n",
       "      <td>2</td>\n",
       "      <td>1049</td>\n",
       "      <td>41.700000</td>\n",
       "      <td>2012-10-29 17:41:05</td>\n",
       "      <td>2016-04-03 12:21:35</td>\n",
       "      <td>0</td>\n",
       "      <td>6.956545</td>\n",
       "      <td>2012</td>\n",
       "      <td>2016</td>\n",
       "    </tr>\n",
       "    <tr>\n",
       "      <th>2</th>\n",
       "      <td>3</td>\n",
       "      <td>340</td>\n",
       "      <td>39.900000</td>\n",
       "      <td>2013-03-21 23:43:18</td>\n",
       "      <td>2016-07-01 15:10:56</td>\n",
       "      <td>0</td>\n",
       "      <td>5.831882</td>\n",
       "      <td>2013</td>\n",
       "      <td>2016</td>\n",
       "    </tr>\n",
       "    <tr>\n",
       "      <th>3</th>\n",
       "      <td>4</td>\n",
       "      <td>266</td>\n",
       "      <td>19.866667</td>\n",
       "      <td>2012-10-31 01:35:44</td>\n",
       "      <td>2014-06-19 05:46:47</td>\n",
       "      <td>1</td>\n",
       "      <td>5.587249</td>\n",
       "      <td>2012</td>\n",
       "      <td>2014</td>\n",
       "    </tr>\n",
       "    <tr>\n",
       "      <th>4</th>\n",
       "      <td>7</td>\n",
       "      <td>1</td>\n",
       "      <td>0.000000</td>\n",
       "      <td>2014-04-28 01:03:37</td>\n",
       "      <td>2014-04-28 01:03:37</td>\n",
       "      <td>1</td>\n",
       "      <td>0.693147</td>\n",
       "      <td>2014</td>\n",
       "      <td>2014</td>\n",
       "    </tr>\n",
       "  </tbody>\n",
       "</table>\n",
       "</div>"
      ],
      "text/plain": [
       "   revContributor  editCount   lifespan                start  \\\n",
       "0               1       1901  44.333333  2012-11-01 00:21:16   \n",
       "1               2       1049  41.700000  2012-10-29 17:41:05   \n",
       "2               3        340  39.900000  2013-03-21 23:43:18   \n",
       "3               4        266  19.866667  2012-10-31 01:35:44   \n",
       "4               7          1   0.000000  2014-04-28 01:03:37   \n",
       "\n",
       "                   end  gone  logEditCount  startyear  endyear  \n",
       "0  2016-06-23 14:46:51     0      7.550661       2012     2016  \n",
       "1  2016-04-03 12:21:35     0      6.956545       2012     2016  \n",
       "2  2016-07-01 15:10:56     0      5.831882       2013     2016  \n",
       "3  2014-06-19 05:46:47     1      5.587249       2012     2014  \n",
       "4  2014-04-28 01:03:37     1      0.693147       2014     2014  "
      ]
     },
     "execution_count": 80,
     "metadata": {},
     "output_type": "execute_result"
    }
   ],
   "source": [
    "# User start and End\n",
    "users_items_notools['startyear'] = users_items_notools['start'].apply(lambda x: getyear(x))\n",
    "users_items_notools['endyear'] = users_items_notools['end'].apply(lambda x: getyear(x))\n",
    "\n",
    "users_items_notools.head()"
   ]
  },
  {
   "cell_type": "code",
   "execution_count": 81,
   "metadata": {
    "ExecuteTime": {
     "end_time": "2017-06-28T16:43:00.358020Z",
     "start_time": "2017-06-28T16:43:00.352173"
    }
   },
   "outputs": [
    {
     "name": "stdout",
     "output_type": "stream",
     "text": [
      "startyear\n",
      "2012      832\n",
      "2013    35322\n",
      "2014    37932\n",
      "2015    42112\n",
      "2016    23351\n",
      "dtype: int64\n"
     ]
    }
   ],
   "source": [
    "ustart = users_items_notools.groupby(by='startyear')\n",
    "started = ustart.size()\n",
    "print(started)"
   ]
  },
  {
   "cell_type": "code",
   "execution_count": 82,
   "metadata": {
    "ExecuteTime": {
     "end_time": "2017-06-28T16:43:00.365264Z",
     "start_time": "2017-06-28T16:43:00.359346"
    }
   },
   "outputs": [
    {
     "name": "stdout",
     "output_type": "stream",
     "text": [
      "endyear\n",
      "2012       75\n",
      "2013    16935\n",
      "2014    30566\n",
      "2015    43679\n",
      "2016    48294\n",
      "dtype: int64\n"
     ]
    }
   ],
   "source": [
    "uend= users_items_notools.groupby(by='endyear')\n",
    "ended = uend.size()\n",
    "print(ended)\n"
   ]
  },
  {
   "cell_type": "code",
   "execution_count": 96,
   "metadata": {
    "ExecuteTime": {
     "end_time": "2017-06-28T17:01:44.256339Z",
     "start_time": "2017-06-28T17:01:43.963816"
    }
   },
   "outputs": [
    {
     "name": "stdout",
     "output_type": "stream",
     "text": [
      "2012       75\n",
      "2013    16868\n",
      "2014    26533\n",
      "2015    34420\n",
      "2016    23351\n",
      "dtype: int64\n",
      "      started  stopped  started_and_stopped\n",
      "2012      832       75                   75\n",
      "2013    35322    16935                16868\n",
      "2014    37932    30566                26533\n",
      "2015    42112    43679                34420\n",
      "2016    23351    48294                23351\n"
     ]
    },
    {
     "data": {
      "text/plain": [
       "<matplotlib.text.Text at 0x7f21c6c0af60>"
      ]
     },
     "execution_count": 96,
     "metadata": {},
     "output_type": "execute_result"
    },
    {
     "data": {
      "image/png": "[encoded data removed]",
      "text/plain": [
       "<matplotlib.figure.Figure at 0x7f21c69c9c88>"
      ]
     },
     "metadata": {},
     "output_type": "display_data"
    }
   ],
   "source": [
    "# Manual dirty quick calculation\n",
    "use2012 = users_items_notools.loc[(users_items_notools['startyear']==2012) & (users_items_notools['endyear']==2012)]\n",
    "use2012c = len(use2012)\n",
    "\n",
    "use2013 = users_items_notools.loc[(users_items_notools['startyear']==2013) & (users_items_notools['endyear']==2013)]\n",
    "use2013c = len(use2013)\n",
    "\n",
    "use2014 = users_items_notools.loc[(users_items_notools['startyear']==2014) & (users_items_notools['endyear']==2014)]\n",
    "use2014c = len(use2014)\n",
    "\n",
    "use2015 = users_items_notools.loc[(users_items_notools['startyear']==2015) & (users_items_notools['endyear']==2015)]\n",
    "use2015c = len(use2015)\n",
    "\n",
    "use2016 = users_items_notools.loc[(users_items_notools['startyear']==2016) & (users_items_notools['endyear']==2016)]\n",
    "use2016c = len(use2016)\n",
    "\n",
    "ustartandend = pd.Series([use2012c,use2013c,use2014c,use2015c,use2016c])\n",
    "ustartandend.index=[2012,2013,2014,2015,2016]\n",
    "print(ustartandend)\n",
    "\n",
    "\n",
    "data_startend = pd.concat([started,ended,ustartandend],axis=1)\n",
    "data_startend.columns=['started','stopped','started_and_stopped']\n",
    "print(data_startend.head())\n",
    "\n",
    "data_startend.plot.bar()\n",
    "plt.xlabel('Years of Wikidata')\n",
    "plt.ylabel('Number of Editors')\n",
    "#plt.title('Change in User Base')"
   ]
  },
  {
   "cell_type": "code",
   "execution_count": 84,
   "metadata": {
    "ExecuteTime": {
     "end_time": "2017-06-28T16:43:00.579067Z",
     "start_time": "2017-06-28T16:43:00.571254"
    }
   },
   "outputs": [
    {
     "data": {
      "text/html": [
       "<div>\n",
       "<table border=\"1\" class=\"dataframe\">\n",
       "  <thead>\n",
       "    <tr style=\"text-align: right;\">\n",
       "      <th></th>\n",
       "      <th>revContributor</th>\n",
       "      <th>editCount</th>\n",
       "      <th>startyear</th>\n",
       "    </tr>\n",
       "  </thead>\n",
       "  <tbody>\n",
       "    <tr>\n",
       "      <th>0</th>\n",
       "      <td>1</td>\n",
       "      <td>1901</td>\n",
       "      <td>2012</td>\n",
       "    </tr>\n",
       "    <tr>\n",
       "      <th>1</th>\n",
       "      <td>2</td>\n",
       "      <td>1049</td>\n",
       "      <td>2012</td>\n",
       "    </tr>\n",
       "    <tr>\n",
       "      <th>2</th>\n",
       "      <td>3</td>\n",
       "      <td>340</td>\n",
       "      <td>2013</td>\n",
       "    </tr>\n",
       "    <tr>\n",
       "      <th>3</th>\n",
       "      <td>4</td>\n",
       "      <td>266</td>\n",
       "      <td>2012</td>\n",
       "    </tr>\n",
       "    <tr>\n",
       "      <th>4</th>\n",
       "      <td>7</td>\n",
       "      <td>1</td>\n",
       "      <td>2014</td>\n",
       "    </tr>\n",
       "  </tbody>\n",
       "</table>\n",
       "</div>"
      ],
      "text/plain": [
       "   revContributor  editCount  startyear\n",
       "0               1       1901       2012\n",
       "1               2       1049       2012\n",
       "2               3        340       2013\n",
       "3               4        266       2012\n",
       "4               7          1       2014"
      ]
     },
     "execution_count": 84,
     "metadata": {},
     "output_type": "execute_result"
    }
   ],
   "source": [
    "ploteditsperstartyear = users_items_notools[['revContributor','editCount','startyear']]\n",
    "ploteditsperstartyear.head()"
   ]
  },
  {
   "cell_type": "code",
   "execution_count": 110,
   "metadata": {
    "ExecuteTime": {
     "end_time": "2017-06-28T18:58:45.069028Z",
     "start_time": "2017-06-28T18:58:44.432270"
    }
   },
   "outputs": [
    {
     "name": "stderr",
     "output_type": "stream",
     "text": [
      "/home/alex/.virtualenvs/markov/lib/python3.5/site-packages/ipykernel/__main__.py:1: SettingWithCopyWarning: \n",
      "A value is trying to be set on a copy of a slice from a DataFrame.\n",
      "Try using .loc[row_indexer,col_indexer] = value instead\n",
      "\n",
      "See the caveats in the documentation: http://pandas.pydata.org/pandas-docs/stable/indexing.html#indexing-view-versus-copy\n",
      "  if __name__ == '__main__':\n"
     ]
    },
    {
     "data": {
      "text/plain": [
       "<matplotlib.text.Text at 0x7f220c1ec940>"
      ]
     },
     "execution_count": 110,
     "metadata": {},
     "output_type": "execute_result"
    },
    {
     "data": {
      "image/png": "[encoded data removed]",
      "text/plain": [
       "<matplotlib.figure.Figure at 0x7f21c4ca1f98>"
      ]
     },
     "metadata": {},
     "output_type": "display_data"
    }
   ],
   "source": [
    "ploteditsperstartyear['logEditCount'] = ploteditsperstartyear['editCount'].apply(lambda x: np.log(1+x))\n",
    "ploteditsperstartyear.boxplot(column='logEditCount',by='startyear')\n",
    "plt.pyplot.xlabel('Start year')\n",
    "plt.pyplot.ylabel('Log edit count')\n",
    "plt.pyplot.title('')\n",
    "plt.pyplot.suptitle('')"
   ]
  },
  {
   "cell_type": "code",
   "execution_count": 86,
   "metadata": {
    "ExecuteTime": {
     "end_time": "2017-06-28T16:43:01.054363Z",
     "start_time": "2017-06-28T16:43:01.045617"
    }
   },
   "outputs": [
    {
     "name": "stdout",
     "output_type": "stream",
     "text": [
      "77698\n",
      "139549\n"
     ]
    }
   ],
   "source": [
    "gone = users_items.loc[users_items['gone']==1]\n",
    "\n",
    "print(len(gone))\n",
    "print(len(users_items_notools))"
   ]
  },
  {
   "cell_type": "code",
   "execution_count": 87,
   "metadata": {
    "ExecuteTime": {
     "end_time": "2017-06-28T16:43:01.059198Z",
     "start_time": "2017-06-28T16:43:01.055557"
    }
   },
   "outputs": [
    {
     "data": {
      "text/plain": [
       "0.5394879218052441"
      ]
     },
     "execution_count": 87,
     "metadata": {},
     "output_type": "execute_result"
    }
   ],
   "source": [
    "75285 / 139549"
   ]
  },
  {
   "cell_type": "code",
   "execution_count": null,
   "metadata": {
    "collapsed": true
   },
   "outputs": [],
   "source": []
  },
  {
   "cell_type": "code",
   "execution_count": null,
   "metadata": {
    "collapsed": true
   },
   "outputs": [],
   "source": []
  },
  {
   "cell_type": "code",
   "execution_count": null,
   "metadata": {
    "collapsed": true
   },
   "outputs": [],
   "source": []
  }
 ],
 "metadata": {
  "kernelspec": {
   "display_name": "Python 3",
   "language": "python",
   "name": "python3"
  },
  "language_info": {
   "codemirror_mode": {
    "name": "ipython",
    "version": 3
   },
   "file_extension": ".py",
   "mimetype": "text/x-python",
   "name": "python",
   "nbconvert_exporter": "python",
   "pygments_lexer": "ipython3",
   "version": "3.6.7"
  },
  "toc": {
   "colors": {
    "hover_highlight": "#DAA520",
    "running_highlight": "#FF0000",
    "selected_highlight": "#FFD700"
   },
   "moveMenuLeft": true,
   "nav_menu": {
    "height": "316px",
    "width": "251px"
   },
   "navigate_menu": true,
   "number_sections": true,
   "sideBar": false,
   "threshold": 4,
   "toc_cell": false,
   "toc_position": {
    "height": "40px",
    "left": "8px",
    "right": "1643px",
    "top": "-85px",
    "width": "212px"
   },
   "toc_section_display": "none",
   "toc_window_display": true,
   "widenNotebook": false
  }
 },
 "nbformat": 4,
 "nbformat_minor": 1
}
